{
  "nbformat": 4,
  "nbformat_minor": 0,
  "metadata": {
    "colab": {
      "provenance": [],
      "collapsed_sections": [
        "0kfLZ5nFXIWY",
        "B5YZObgGV64n",
        "R3hGFqGOY0eU",
        "Ta5WQQK_8QHO",
        "h_0W3hLP8oyr",
        "MxHtmFbS86xt",
        "RYuU9Wdi9j9_",
        "iIEQC9B9-n5y",
        "Pb5Q1aXqAdfA",
        "4YLlvR3PBqLk",
        "82VMTCJ1LAkJ",
        "TmfzfaRLK-LJ",
        "1bRSKhA3LxZd",
        "u9vU58N8Ml6w",
        "qNft4n7TOP9h",
        "-RMGaQuKPJjW",
        "uC02UYX6QJns",
        "zWx8j1BDRMvG",
        "gzo-3Mi9R1_z",
        "FEl4IiB_XZR6",
        "c4Mi65vJcSZR",
        "eZQxksj8dyPP",
        "iWTQyxPYf9Z-",
        "ierw3MZnhogg",
        "TTSujhePizUO",
        "1kT-o1z-m0PD",
        "SdSBcSTJnkvk",
        "6vQfYX2yp4GE",
        "IZWjKK9ap_ac",
        "NZC7r4lKFYTA",
        "7XBbuM84JcLV",
        "J-3LUTXoKldC",
        "wyP2HUEtMXvl",
        "hpouxElrUWQY",
        "hiazcbO8WZXH",
        "UCe5V5z-dMbN",
        "ghew6TZQiQ4C",
        "y4va-bkJnfGh",
        "JoLZjUdspq1u",
        "DfVONGsULJiV",
        "Aryo26J2PGhr",
        "y6Oh2bz9USOx",
        "T4lO8vizLHoO",
        "vxwCB-OaarZb",
        "gGv2aZ0xer8e",
        "fU3eY9kpukYq",
        "hjOLO73B2a-F",
        "wxFaMrEV6lv6",
        "uT_9c747-Ln5",
        "SRChLhmPHT0c"
      ]
    },
    "kernelspec": {
      "name": "python3",
      "display_name": "Python 3"
    },
    "language_info": {
      "name": "python"
    }
  },
  "cells": [
    {
      "cell_type": "markdown",
      "source": [
        "# ***Files,exceptional handling,logging and memory management Questions.***"
      ],
      "metadata": {
        "id": "0kfLZ5nFXIWY"
      }
    },
    {
      "cell_type": "markdown",
      "source": [
        "## **Q1.What is the difference between interpreted and compiled languages?**"
      ],
      "metadata": {
        "id": "B5YZObgGV64n"
      }
    },
    {
      "cell_type": "markdown",
      "source": [
        "The main difference between interpreted and compiled languages is how they are executed:\n",
        "\n",
        "* **Interpreted languages** execute code line by line at runtime using an interpreter. (e.g., Python, JavaScript)\n",
        "\n",
        "* **Compiled languages** translate the entire code into machine language before execution using a compiler. (e.g., C, C++)"
      ],
      "metadata": {
        "id": "pgUGUWfbYw4M"
      }
    },
    {
      "cell_type": "markdown",
      "source": [
        "## **Q2.What is exception handling in Python?**"
      ],
      "metadata": {
        "id": "R3hGFqGOY0eU"
      }
    },
    {
      "cell_type": "markdown",
      "source": [
        "Exception handling in Python is a mechanism that allows you to handle runtime errors using try, except, else, and finally blocks to prevent program crashes and ensure smooth execution."
      ],
      "metadata": {
        "id": "Q8mSJNsS8Fin"
      }
    },
    {
      "cell_type": "markdown",
      "source": [
        "## **Q3.What is the purpose of the finally block in exception handling?**"
      ],
      "metadata": {
        "id": "Ta5WQQK_8QHO"
      }
    },
    {
      "cell_type": "markdown",
      "source": [
        "The finally block in exception handling is used to define code that will execute no matter what, whether an exception occurs or not. It is typically used for cleanup operations like closing files, releasing resources, or disconnecting from a database."
      ],
      "metadata": {
        "id": "SElg23rV8ZoP"
      }
    },
    {
      "cell_type": "markdown",
      "source": [
        "## **Q4.What is logging in Python?**"
      ],
      "metadata": {
        "id": "h_0W3hLP8oyr"
      }
    },
    {
      "cell_type": "markdown",
      "source": [
        "Logging in Python is the process of recording events, errors, and other runtime information of a program using the built-in logging module. It helps in debugging, monitoring, and analyzing program execution by storing messages in files or displaying them in the console with different severity levels (DEBUG, INFO, WARNING, ERROR, CRITICAL)."
      ],
      "metadata": {
        "id": "BGqyRkgo8z54"
      }
    },
    {
      "cell_type": "markdown",
      "source": [
        "## **Q5.What is the significance of the __ _del_ _ _ method in Python?**"
      ],
      "metadata": {
        "id": "MxHtmFbS86xt"
      }
    },
    {
      "cell_type": "markdown",
      "source": [
        "The _ _del_ _ method in Python is a special method known as a destructor. It is called automatically when an object is about to be destroyed (i.e., when it is no longer referenced). Its main purpose is to clean up resources like closing files, releasing memory, or disconnecting from a database before the object is deleted. However, relying on _ _del_ _ is discouraged in favor of using context managers (with statement) or explicit cleanup methods."
      ],
      "metadata": {
        "id": "Od4u-pYb9SbO"
      }
    },
    {
      "cell_type": "markdown",
      "source": [
        "## **Q6.What is the difference between import and from ... import in Python?**"
      ],
      "metadata": {
        "id": "RYuU9Wdi9j9_"
      }
    },
    {
      "cell_type": "markdown",
      "source": [
        "The difference between *import* and *from ... import* in Python is:\n",
        "\n",
        "* *import module_name:*\n",
        " Imports the entire module, and you must use *module_name.function_name* to access its functions."
      ],
      "metadata": {
        "id": "YFmRbwQ39t9o"
      }
    },
    {
      "cell_type": "code",
      "source": [
        "import math\n",
        "print(math.sqrt(16))  # Uses module name prefix\n"
      ],
      "metadata": {
        "colab": {
          "base_uri": "https://localhost:8080/"
        },
        "id": "saXFplup-R3G",
        "outputId": "e0a3db19-fd12-4ce8-a869-956a9002c885"
      },
      "execution_count": null,
      "outputs": [
        {
          "output_type": "stream",
          "name": "stdout",
          "text": [
            "4.0\n"
          ]
        }
      ]
    },
    {
      "cell_type": "markdown",
      "source": [
        "* *from module_name import function_name:* Imports specific functions or variables directly, so you can use them without the module name prefix."
      ],
      "metadata": {
        "id": "iDQXPcr_-Xxo"
      }
    },
    {
      "cell_type": "code",
      "source": [
        "from math import sqrt\n",
        "print(sqrt(16))  # No need for 'math.'\n"
      ],
      "metadata": {
        "colab": {
          "base_uri": "https://localhost:8080/"
        },
        "id": "AVyctcw--i2w",
        "outputId": "6b4aa922-e238-4204-a6c6-de5495fb0ebd"
      },
      "execution_count": null,
      "outputs": [
        {
          "output_type": "stream",
          "name": "stdout",
          "text": [
            "4.0\n"
          ]
        }
      ]
    },
    {
      "cell_type": "markdown",
      "source": [
        "## **Q7.How can you handle multiple exceptions in Python?**"
      ],
      "metadata": {
        "id": "iIEQC9B9-n5y"
      }
    },
    {
      "cell_type": "markdown",
      "source": [
        "**1.Multiple except blocks:** Catch different exceptions separately."
      ],
      "metadata": {
        "id": "hpyIg22E-wW-"
      }
    },
    {
      "cell_type": "code",
      "source": [
        "try:\n",
        "    x = 1 / 0\n",
        "except ZeroDivisionError:\n",
        "    print(\"Cannot divide by zero.\")\n",
        "except ValueError:\n",
        "    print(\"Invalid value.\")\n"
      ],
      "metadata": {
        "colab": {
          "base_uri": "https://localhost:8080/"
        },
        "id": "suMYKAqZ_2vB",
        "outputId": "216d158f-c6e1-49a6-ead5-55d121c76403"
      },
      "execution_count": null,
      "outputs": [
        {
          "output_type": "stream",
          "name": "stdout",
          "text": [
            "Cannot divide by zero.\n"
          ]
        }
      ]
    },
    {
      "cell_type": "markdown",
      "source": [
        "**2.A single except block with a tuple:** Catch multiple exceptions in one block."
      ],
      "metadata": {
        "id": "ORBMXRhx_8AB"
      }
    },
    {
      "cell_type": "code",
      "source": [
        "try:\n",
        "    x = int(\"abc\")\n",
        "except (ZeroDivisionError, ValueError) as e:\n",
        "    print(f\"Error occurred: {e}\")\n"
      ],
      "metadata": {
        "colab": {
          "base_uri": "https://localhost:8080/"
        },
        "id": "kS28DNDoAHCy",
        "outputId": "83bb9661-beaa-4a40-ffd1-329d365f01a5"
      },
      "execution_count": null,
      "outputs": [
        {
          "output_type": "stream",
          "name": "stdout",
          "text": [
            "Error occurred: invalid literal for int() with base 10: 'abc'\n"
          ]
        }
      ]
    },
    {
      "cell_type": "markdown",
      "source": [
        "**3.Generic except Exception:** Catch all exceptions (not recommended unless necessary)."
      ],
      "metadata": {
        "id": "8ap4CKO6AKdL"
      }
    },
    {
      "cell_type": "code",
      "source": [
        "try:\n",
        "    x = 1 / 0\n",
        "except Exception as e:\n",
        "    print(f\"An error occurred: {e}\")\n"
      ],
      "metadata": {
        "colab": {
          "base_uri": "https://localhost:8080/"
        },
        "id": "Bgv4wBaDAQcf",
        "outputId": "0e29b65f-3d1e-494b-9996-a6ea2c929c60"
      },
      "execution_count": null,
      "outputs": [
        {
          "output_type": "stream",
          "name": "stdout",
          "text": [
            "An error occurred: division by zero\n"
          ]
        }
      ]
    },
    {
      "cell_type": "markdown",
      "source": [
        "## **Q8.What is the purpose of the with statement when handling files in Python?**"
      ],
      "metadata": {
        "id": "Pb5Q1aXqAdfA"
      }
    },
    {
      "cell_type": "markdown",
      "source": [
        "The with statement in Python is used for handling files efficiently by automatically managing resources. It ensures that the file is properly closed after its block of code is executed, even if an exception occurs.\n",
        "\n",
        "**Example**"
      ],
      "metadata": {
        "id": "dctiQh7RAtnN"
      }
    },
    {
      "cell_type": "code",
      "source": [
        "with open(\"example.txt\", \"r\") as file:\n",
        "    content = file.read()  # File is automatically closed after this block\n"
      ],
      "metadata": {
        "id": "ohbdhVNYBkDm"
      },
      "execution_count": null,
      "outputs": []
    },
    {
      "cell_type": "markdown",
      "source": [
        "This eliminates the need for file.close(), making the code cleaner and reducing the risk of resource leaks."
      ],
      "metadata": {
        "id": "sxIOKIx3BmPY"
      }
    },
    {
      "cell_type": "markdown",
      "source": [
        "## **Q9.What is the difference between multithreading and multiprocessing?**"
      ],
      "metadata": {
        "id": "4YLlvR3PBqLk"
      }
    },
    {
      "cell_type": "markdown",
      "source": [
        "The key difference between **multithreading** and **multiprocessing** is how they utilize system resources:\n",
        "\n",
        "* **Multithreading:** Runs multiple threads within the same process, sharing memory. It is useful for I/O-bound tasks (e.g., file reading, network requests) but limited by the Global Interpreter Lock (GIL) in Python."
      ],
      "metadata": {
        "id": "oz3n7y0YCGak"
      }
    },
    {
      "cell_type": "code",
      "source": [
        "import threading\n",
        "t1 = threading.Thread(target=some_function)\n",
        "t1.start()\n"
      ],
      "metadata": {
        "id": "tTTTlVHFCbxE"
      },
      "execution_count": null,
      "outputs": []
    },
    {
      "cell_type": "markdown",
      "source": [
        "* **Multiprocessing:** Runs multiple processes, each with its own memory space, bypassing the GIL. It is ideal for CPU-bound tasks (e.g., computations, data processing)."
      ],
      "metadata": {
        "id": "rhto3J4fCe6a"
      }
    },
    {
      "cell_type": "code",
      "source": [
        "import multiprocessing\n",
        "p1 = multiprocessing.Process(target=some_function)\n",
        "p1.start()\n"
      ],
      "metadata": {
        "id": "PF1kSVInCkEV"
      },
      "execution_count": null,
      "outputs": []
    },
    {
      "cell_type": "markdown",
      "source": [
        "* Use **multithreading** for tasks that spend time waiting (I/O-bound).\n",
        "\n",
        "* Use **multiprocessing** for tasks that require heavy computation (CPU-bound)."
      ],
      "metadata": {
        "id": "RSnOEfTMCpla"
      }
    },
    {
      "cell_type": "markdown",
      "source": [
        "## **Q10.What are the advantages of using logging in a program?**"
      ],
      "metadata": {
        "id": "82VMTCJ1LAkJ"
      }
    },
    {
      "cell_type": "markdown",
      "source": [
        "Using logging in a program provides several advantages:\n",
        "\n",
        "**1.Easier Debugging** – Helps track errors and unexpected behavior without using print() statements.\n",
        "\n",
        "**2.Log Levels for Filtering** – Allows categorizing messages (DEBUG, INFO, WARNING, ERROR, CRITICAL) to control output.\n",
        "\n",
        "**3.Persistent Records** – Logs can be saved to files for later analysis, making debugging easier.\n",
        "\n",
        "**4.Better Performance** – More efficient than print(), as it can be configured to write logs asynchronously.\n",
        "\n",
        "**5.Customizable Output** – Can format logs, add timestamps, and redirect output to files or remote servers.\n",
        "\n",
        "**6.Multi-thread and Multi-process Support** – Handles concurrent logging in complex applications.\n",
        "\n",
        "**7.Production Monitoring** – Helps track application health, security breaches, and performance issues.\n",
        "\n",
        "**Example:**"
      ],
      "metadata": {
        "id": "dQqsmvquGpS9"
      }
    },
    {
      "cell_type": "code",
      "source": [
        "import logging\n",
        "logging.basicConfig(level=logging.INFO, filename=\"app.log\", format=\"%(asctime)s - %(levelname)s - %(message)s\")\n",
        "logging.info(\"Application started\")\n"
      ],
      "metadata": {
        "id": "sp7YoaTsK298"
      },
      "execution_count": null,
      "outputs": []
    },
    {
      "cell_type": "markdown",
      "source": [
        "This logs messages to app.log with timestamps, making debugging and monitoring more effective."
      ],
      "metadata": {
        "id": "oA_r8BuQK9Mz"
      }
    },
    {
      "cell_type": "markdown",
      "source": [
        "## **Q11.What is memory management in Python?**\n"
      ],
      "metadata": {
        "id": "TmfzfaRLK-LJ"
      }
    },
    {
      "cell_type": "markdown",
      "source": [
        "Memory management in Python involves automatic allocation and deallocation of memory using:\n",
        "\n",
        "* **Garbage Collection** – Removes unused objects to free memory.\n",
        "\n",
        "* **Reference Counting** – Tracks the number of references to an object.\n",
        "\n",
        "* **Dynamic Memory Allocation** – Manages objects in the heap using Python’s memory manager."
      ],
      "metadata": {
        "id": "s-XcyO0tLSOJ"
      }
    },
    {
      "cell_type": "markdown",
      "source": [
        "## **Q12.What are the basic steps involved in exception handling in Python?**"
      ],
      "metadata": {
        "id": "1bRSKhA3LxZd"
      }
    },
    {
      "cell_type": "markdown",
      "source": [
        "The basic steps in exception handling in Python are:\n",
        "\n",
        "**1.Try Block** (try) – Write the code that may raise an exception.\n",
        "\n",
        "**2.Except Block** (except) – Handle specific or general exceptions.\n",
        "\n",
        "**3.Else Block** (else) – Execute if no exceptions occur (optional).\n",
        "\n",
        "**4.Finally Block** (finally) – Execute cleanup code, whether an exception occurs or not (optional).\n",
        "\n",
        "**Example:**"
      ],
      "metadata": {
        "id": "d65ToPVVMGbc"
      }
    },
    {
      "cell_type": "code",
      "source": [
        "try:\n",
        "    x = 10 / 0  # Risky code\n",
        "except ZeroDivisionError:\n",
        "    print(\"Cannot divide by zero.\")\n",
        "else:\n",
        "    print(\"Division successful.\")\n",
        "finally:\n",
        "    print(\"Execution completed.\")\n"
      ],
      "metadata": {
        "id": "P0f7041YMjuA"
      },
      "execution_count": null,
      "outputs": []
    },
    {
      "cell_type": "markdown",
      "source": [
        "## **Q13.Why is memory management important in Python?**"
      ],
      "metadata": {
        "id": "u9vU58N8Ml6w"
      }
    },
    {
      "cell_type": "markdown",
      "source": [
        "Memory management is important in Python because it:\n",
        "\n",
        "**1.Prevents Memory Leaks** – Automatic garbage collection removes unused objects, freeing memory.\n",
        "\n",
        "**2.Optimizes Performance** – Efficient memory allocation ensures smooth execution of programs.\n",
        "\n",
        "**3.Enhances Stability** – Proper memory handling prevents crashes and excessive memory usage.\n",
        "\n",
        "**4.Simplifies Development** – Python’s built-in memory management reduces the need for manual allocation and deallocation.\n",
        "\n",
        "Efficient memory management ensures programs run reliably without unnecessary resource consumption."
      ],
      "metadata": {
        "id": "cK03nBozM19i"
      }
    },
    {
      "cell_type": "markdown",
      "source": [
        " ## **Q14.What is the role of try and except in exception handling?**"
      ],
      "metadata": {
        "id": "qNft4n7TOP9h"
      }
    },
    {
      "cell_type": "markdown",
      "source": [
        "The try and except blocks are the core of exception handling in Python:\n",
        "\n",
        "* **try block:** Contains code that may raise an exception.\n",
        "\n",
        "* **except block:** Handles the exception if one occurs, preventing program crashes.\n",
        "\n",
        "**Example:**"
      ],
      "metadata": {
        "id": "RY_BbdVkOu4S"
      }
    },
    {
      "cell_type": "code",
      "source": [
        "try:\n",
        "    x = 10 / 0  # Risky operation\n",
        "except ZeroDivisionError:\n",
        "    print(\"Cannot divide by zero.\")  # Handles the error\n"
      ],
      "metadata": {
        "id": "bu2lRK2FPA1J"
      },
      "execution_count": null,
      "outputs": []
    },
    {
      "cell_type": "markdown",
      "source": [
        "## **Q15.How does Python's garbage collection system work?**"
      ],
      "metadata": {
        "id": "-RMGaQuKPJjW"
      }
    },
    {
      "cell_type": "markdown",
      "source": [
        "Python’s garbage collection system works by automatically managing memory and removing unused objects. It uses:\n",
        "\n",
        "**1.Reference Counting** – Tracks the number of references to an object; deletes it when the count reaches zero.\n",
        "\n",
        "**2.Garbage Collector (GC)** – Handles circular references (when objects refer to each other) using:\n",
        "\n",
        "* **Generational Garbage Collection** – Divides objects into three generations (young, middle-aged, old) and collects less frequently used objects.\n",
        "\n",
        "* **Cycle Detection** – Identifies and removes unreachable objects.\n",
        "\n",
        "**Example:**"
      ],
      "metadata": {
        "id": "FqEmBxkzPm11"
      }
    },
    {
      "cell_type": "code",
      "source": [
        "import gc\n",
        "gc.collect()  # Manually triggers garbage collection (usually automatic)\n"
      ],
      "metadata": {
        "colab": {
          "base_uri": "https://localhost:8080/"
        },
        "id": "Iy78mefSQA5T",
        "outputId": "d14e4cb6-1131-4cbc-e269-f5db535f0fac"
      },
      "execution_count": null,
      "outputs": [
        {
          "output_type": "execute_result",
          "data": {
            "text/plain": [
              "168"
            ]
          },
          "metadata": {},
          "execution_count": 10
        }
      ]
    },
    {
      "cell_type": "markdown",
      "source": [
        "Python's GC optimizes memory usage, reducing manual cleanup."
      ],
      "metadata": {
        "id": "Ai9gFJNvQISE"
      }
    },
    {
      "cell_type": "markdown",
      "source": [
        "## **Q16.What is the purpose of the else block in exception handling?**"
      ],
      "metadata": {
        "id": "uC02UYX6QJns"
      }
    },
    {
      "cell_type": "markdown",
      "source": [
        "The else block in exception handling is used to execute code only if no exceptions occur in the try block. It helps separate error-handling code from normal execution.\n",
        "\n",
        "**Example:**"
      ],
      "metadata": {
        "id": "4I7yFMlzQZNt"
      }
    },
    {
      "cell_type": "code",
      "source": [
        "try:\n",
        "    x = 10 / 2  # No exception occurs\n",
        "except ZeroDivisionError:\n",
        "    print(\"Cannot divide by zero.\")\n",
        "else:\n",
        "    print(\"Division successful!\")  # Runs only if no exception occurs\n"
      ],
      "metadata": {
        "id": "jmntxuYRQp6K"
      },
      "execution_count": null,
      "outputs": []
    },
    {
      "cell_type": "markdown",
      "source": [
        "Here, \"Division successful!\" is printed because no error occurred in the try block."
      ],
      "metadata": {
        "id": "NjhGpAaeQuRK"
      }
    },
    {
      "cell_type": "markdown",
      "source": [
        "## **Q17.What are the common logging levels in Python?**\n"
      ],
      "metadata": {
        "id": "zWx8j1BDRMvG"
      }
    },
    {
      "cell_type": "markdown",
      "source": [
        "Python provides five common logging levels, each representing a different severity:\n",
        "\n",
        "**1.DEBUG (10)** – Detailed information for debugging.\n",
        "\n",
        "**2.INFO (20)** – General information about program execution.\n",
        "\n",
        "**3.WARNING (30)** – Indicates potential issues that don’t stop execution.\n",
        "\n",
        "**4.ERROR (40)** – A serious problem that prevents part of the program from running.\n",
        "\n",
        "**5.CRITICAL (50)** – A severe error that may cause the program to crash.\n",
        "\n",
        "**Example:**"
      ],
      "metadata": {
        "id": "bhjhgn2sRU9A"
      }
    },
    {
      "cell_type": "code",
      "source": [
        "import logging\n",
        "\n",
        "logging.basicConfig(level=logging.DEBUG)\n",
        "logging.debug(\"This is a debug message\")\n",
        "logging.info(\"This is an info message\")\n",
        "logging.warning(\"This is a warning\")\n",
        "logging.error(\"This is an error\")\n",
        "logging.critical(\"This is critical\")\n"
      ],
      "metadata": {
        "id": "eYJrOgekRxN1"
      },
      "execution_count": null,
      "outputs": []
    },
    {
      "cell_type": "markdown",
      "source": [
        "Each level helps categorize logs for better debugging and monitoring."
      ],
      "metadata": {
        "id": "PZL-pNjTR0VV"
      }
    },
    {
      "cell_type": "markdown",
      "source": [
        "## **Q18.What is the difference between os.fork() and multiprocessing in Python?**"
      ],
      "metadata": {
        "id": "gzo-3Mi9R1_z"
      }
    },
    {
      "cell_type": "markdown",
      "source": [
        "The difference between os.fork() and the multiprocessing module in Python lies in their approach to process creation:\n",
        "\n",
        "**1. os.fork() (UNIX/Linux Only)**\n",
        "\n",
        "* Creates a child process by duplicating the parent process.\n",
        "\n",
        "* The child and parent process share the same memory space but run separately.\n",
        "\n",
        "* Not available on Windows.\n",
        "\n",
        "* Low-level and requires manual handling of inter-process communication (IPC).\n",
        "\n",
        "**Example:**"
      ],
      "metadata": {
        "id": "cfBGX3kTSN5-"
      }
    },
    {
      "cell_type": "code",
      "source": [
        "import os\n",
        "\n",
        "pid = os.fork()\n",
        "if pid == 0:\n",
        "    print(\"Child process\")\n",
        "else:\n",
        "    print(\"Parent process\")\n"
      ],
      "metadata": {
        "colab": {
          "base_uri": "https://localhost:8080/"
        },
        "id": "r3C8_M5ySeQz",
        "outputId": "6450768b-c48c-401a-dd22-359e22345aa5"
      },
      "execution_count": null,
      "outputs": [
        {
          "output_type": "stream",
          "name": "stdout",
          "text": [
            "Parent process\n",
            "Child process\n"
          ]
        }
      ]
    },
    {
      "cell_type": "markdown",
      "source": [
        "**2. multiprocessing Module (Cross-Platform)**\n",
        "\n",
        "* Creates a new process with separate memory (avoids issues with shared memory).\n",
        "\n",
        "* Works on both Windows and UNIX-based systems.\n",
        "\n",
        "* Provides built-in tools for IPC, process management, and pooling.\n",
        "\n",
        "* More user-friendly than os.fork().\n",
        "\n",
        "**Example**"
      ],
      "metadata": {
        "id": "aMZfmp_BV9OA"
      }
    },
    {
      "cell_type": "code",
      "source": [
        "import multiprocessing\n",
        "\n",
        "def worker():\n",
        "    print(\"Child process\")\n",
        "\n",
        "p = multiprocessing.Process(target=worker)\n",
        "p.start()\n",
        "p.join()\n"
      ],
      "metadata": {
        "id": "Hnzc0yCqcMfv"
      },
      "execution_count": null,
      "outputs": []
    },
    {
      "cell_type": "markdown",
      "source": [
        "**Difference:**\n",
        "\n",
        "![Screenshot 2025-03-14 120351.png](data:image/png;base64,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)"
      ],
      "metadata": {
        "id": "VICB74X2Wl3g"
      }
    },
    {
      "cell_type": "markdown",
      "source": [
        "## **Q19.What is the importance of closing a file in Python?**"
      ],
      "metadata": {
        "id": "FEl4IiB_XZR6"
      }
    },
    {
      "cell_type": "markdown",
      "source": [
        "Closing a file in Python is important because it:\n",
        "\n",
        "**1.Frees System Resources** – Prevents memory leaks by releasing file handles.\n",
        "\n",
        "**2.Ensures Data Integrity** – Flushes buffered data, ensuring all changes are saved.\n",
        "\n",
        "**3.Prevents File Corruption** – Avoids issues like incomplete writes or locks on the file.\n",
        "\n",
        "**4.Allows Reopening** – A closed file can be reopened without conflicts.\n",
        "\n",
        "**Example:**"
      ],
      "metadata": {
        "id": "rIonKfyyXhrO"
      }
    },
    {
      "cell_type": "code",
      "source": [
        "file = open(\"example.txt\", \"w\")\n",
        "file.write(\"Hello, World!\")\n",
        "file.close()  # Ensures data is saved and resources are released\n"
      ],
      "metadata": {
        "id": "Cy68fpplb_bs"
      },
      "execution_count": null,
      "outputs": []
    },
    {
      "cell_type": "markdown",
      "source": [
        "Using with open() is recommended as it automatically closes the file:"
      ],
      "metadata": {
        "id": "EQdD8sbjcCAh"
      }
    },
    {
      "cell_type": "code",
      "source": [
        "with open(\"example.txt\", \"w\") as file:\n",
        "    file.write(\"Hello, World!\")  # File closes automatically after the block\n"
      ],
      "metadata": {
        "id": "Z1M82q2zcDGw"
      },
      "execution_count": null,
      "outputs": []
    },
    {
      "cell_type": "markdown",
      "source": [
        "## **Q20.What is the difference between file.read() and file.readline() in Python?**"
      ],
      "metadata": {
        "id": "c4Mi65vJcSZR"
      }
    },
    {
      "cell_type": "markdown",
      "source": [
        "**Differences:**\n",
        "The difference between file.read() and file.readline() in Python is:\n",
        "\n",
        "* file.read(size) – Reads the entire file or a specified number of bytes.\n",
        "* file.readline() – Reads only one line from the file at a time.\n",
        "\n",
        "![Screenshot 2025-03-14 123053.png](data:image/png;base64,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)"
      ],
      "metadata": {
        "id": "Xs7Fe4kocbtr"
      }
    },
    {
      "cell_type": "markdown",
      "source": [
        "## **Q21.What is the logging module in Python used for?**"
      ],
      "metadata": {
        "id": "eZQxksj8dyPP"
      }
    },
    {
      "cell_type": "markdown",
      "source": [
        "The logging module in Python is used for tracking events, debugging, and monitoring program execution by recording messages with different severity levels. It helps in identifying issues, saving logs for later analysis, and improving application reliability.\n",
        "\n",
        "**Key Features of logging Module:**\n",
        "* Provides five log levels: DEBUG, INFO, WARNING, ERROR, CRITICAL.\n",
        "\n",
        "* Supports file logging to save logs for future reference.\n",
        "* Allows custom log formatting with timestamps, log levels, etc.\n",
        "* Can handle multi-threaded and multi-process logging efficiently.\n",
        "\n",
        "**Example:**"
      ],
      "metadata": {
        "id": "kB3BOOOje3mA"
      }
    },
    {
      "cell_type": "code",
      "source": [
        "import logging\n",
        "\n",
        "# Configure logging\n",
        "logging.basicConfig(level=logging.INFO, filename=\"app.log\", format=\"%(asctime)s - %(levelname)s - %(message)s\")\n",
        "\n",
        "logging.info(\"Application started\")  # Logs an INFO message\n",
        "logging.warning(\"This is a warning\")  # Logs a WARNING message\n",
        "logging.error(\"An error occurred\")  # Logs an ERROR message\n"
      ],
      "metadata": {
        "colab": {
          "base_uri": "https://localhost:8080/"
        },
        "id": "jCALvNh6fGH-",
        "outputId": "6a94e801-adc5-40a1-c0c3-15737c6938a8"
      },
      "execution_count": null,
      "outputs": [
        {
          "output_type": "stream",
          "name": "stderr",
          "text": [
            "WARNING:root:This is a warning\n",
            "ERROR:root:An error occurred\n"
          ]
        }
      ]
    },
    {
      "cell_type": "markdown",
      "source": [
        "## **Q21.What is the logging module in Python used for?**"
      ],
      "metadata": {
        "id": "iWTQyxPYf9Z-"
      }
    },
    {
      "cell_type": "markdown",
      "source": [
        "The logging module in Python is used for recording events, debugging, and monitoring program execution efficiently. It helps track errors, warnings, and other runtime information, making debugging easier and improving application reliability.\n",
        "\n",
        "**Features:**\n",
        "* Provides log levels: DEBUG, INFO, WARNING, ERROR, CRITICAL.\n",
        "\n",
        "* Supports console and file logging for persistent records.\n",
        "\n",
        "* Allows custom formatting with timestamps and severity levels.\n",
        "\n",
        "* Works with multi-threading and multiprocessing for concurrent logging.\n",
        "\n",
        "**Example:**"
      ],
      "metadata": {
        "id": "sjj6OzNagH5m"
      }
    },
    {
      "cell_type": "code",
      "source": [
        "import logging\n",
        "\n",
        "logging.basicConfig(level=logging.INFO, filename=\"app.log\", format=\"%(asctime)s - %(levelname)s - %(message)s\")\n",
        "logging.info(\"Application started\")\n",
        "logging.warning(\"This is a warning\")\n",
        "logging.error(\"An error occurred\")\n"
      ],
      "metadata": {
        "colab": {
          "base_uri": "https://localhost:8080/"
        },
        "id": "L7Nh2DnFhgs9",
        "outputId": "770eef76-5fca-4ec2-e74c-b14ec667ca7b"
      },
      "execution_count": null,
      "outputs": [
        {
          "output_type": "stream",
          "name": "stderr",
          "text": [
            "WARNING:root:This is a warning\n",
            "ERROR:root:An error occurred\n"
          ]
        }
      ]
    },
    {
      "cell_type": "markdown",
      "source": [
        "## **Q22.What is the os module in Python used for in file handling?**"
      ],
      "metadata": {
        "id": "ierw3MZnhogg"
      }
    },
    {
      "cell_type": "markdown",
      "source": [
        "The os module in Python is used for interacting with the operating system, including file handling operations such as creating, deleting, and managing files and directories.\n",
        "\n",
        "**Common File Handling Functions in os Module:**\n",
        "\n",
        "1.Check if a file exists"
      ],
      "metadata": {
        "id": "34hkUVrJiB_C"
      }
    },
    {
      "cell_type": "code",
      "source": [
        "import os\n",
        "print(os.path.exists(\"example.txt\"))  # Returns True if file exists\n"
      ],
      "metadata": {
        "id": "ZBqhiJh7iOuy"
      },
      "execution_count": null,
      "outputs": []
    },
    {
      "cell_type": "markdown",
      "source": [
        "**2.Create a directory**"
      ],
      "metadata": {
        "id": "uUXcZXdSiRPt"
      }
    },
    {
      "cell_type": "code",
      "source": [
        "os.mkdir(\"new_folder\")  # Creates a new folder\n"
      ],
      "metadata": {
        "id": "uUX9nbzEiTyB"
      },
      "execution_count": null,
      "outputs": []
    },
    {
      "cell_type": "markdown",
      "source": [
        "**3.Remove a file**"
      ],
      "metadata": {
        "id": "_dX4V5uNiXZo"
      }
    },
    {
      "cell_type": "code",
      "source": [
        "os.remove(\"example.txt\")  # Deletes the file\n"
      ],
      "metadata": {
        "id": "0Mwhw1VjiavU"
      },
      "execution_count": null,
      "outputs": []
    },
    {
      "cell_type": "markdown",
      "source": [
        "**4.Rename a file**"
      ],
      "metadata": {
        "id": "Z6Eym5nHibz0"
      }
    },
    {
      "cell_type": "code",
      "source": [
        "os.rename(\"old.txt\", \"new.txt\")  # Renames file\n"
      ],
      "metadata": {
        "id": "gwosQLLvigA0"
      },
      "execution_count": null,
      "outputs": []
    },
    {
      "cell_type": "markdown",
      "source": [
        "**5.Get the current working directory**"
      ],
      "metadata": {
        "id": "-dKCzqA7ii3k"
      }
    },
    {
      "cell_type": "code",
      "source": [
        "print(os.getcwd())  # Prints current directory path\n"
      ],
      "metadata": {
        "id": "xavbmFAUimCs"
      },
      "execution_count": null,
      "outputs": []
    },
    {
      "cell_type": "markdown",
      "source": [
        "**6.List files in a directory**"
      ],
      "metadata": {
        "id": "XwE57mbfipFA"
      }
    },
    {
      "cell_type": "code",
      "source": [
        "print(os.listdir(\".\"))  # Lists files and folders in the current directory\n"
      ],
      "metadata": {
        "id": "bBvSsenAirVD"
      },
      "execution_count": null,
      "outputs": []
    },
    {
      "cell_type": "markdown",
      "source": [
        "## **Q23.What are the challenges associated with memory management in Python?**"
      ],
      "metadata": {
        "id": "TTSujhePizUO"
      }
    },
    {
      "cell_type": "markdown",
      "source": [
        "Memory management in Python is generally automatic, but it comes with certain challenges, including:\n",
        "\n",
        "**1.Garbage Collection Overhead** – Python’s garbage collector can introduce performance overhead, especially in large applications.\n",
        "\n",
        "**2.Memory Leaks** – Improper object references (e.g., global variables, circular references) can prevent garbage collection.\n",
        "\n",
        "**3.High Memory Usage** – Python uses dynamic typing and object overhead, leading to higher memory consumption compared to lower-level languages like C.\n",
        "\n",
        "**4.Global Interpreter Lock (GIL)** – Limits true parallel execution, affecting memory management in multithreaded programs.\n",
        "\n",
        "**5.Fragmentation** – Frequent allocations and deallocations may cause memory fragmentation, reducing efficiency.\n",
        "\n",
        "**6.Manual Cleanup Needs** – In some cases, explicit resource management (e.g., using del, gc.collect()) is required to optimize memory usage.\n",
        "\n",
        "**Example of a Memory Leak:**"
      ],
      "metadata": {
        "id": "opQnSw2PjAVP"
      }
    },
    {
      "cell_type": "code",
      "source": [
        "import gc\n",
        "\n",
        "class Node:\n",
        "    def __init__(self):\n",
        "        self.ref = self  #Circular reference\n",
        "\n",
        "n = Node()\n",
        "del n  #Object is not freed due to circular reference\n",
        "gc.collect()  #Required to force cleanup\n"
      ],
      "metadata": {
        "colab": {
          "base_uri": "https://localhost:8080/"
        },
        "id": "rpzwUtYZmfg_",
        "outputId": "5e8686bc-cb9a-4eb2-b9c0-b3691d5cb862"
      },
      "execution_count": null,
      "outputs": [
        {
          "output_type": "execute_result",
          "data": {
            "text/plain": [
              "1"
            ]
          },
          "metadata": {},
          "execution_count": 4
        }
      ]
    },
    {
      "cell_type": "markdown",
      "source": [
        "## **Q24.How do you raise an exception manually in Python?**\n"
      ],
      "metadata": {
        "id": "1kT-o1z-m0PD"
      }
    },
    {
      "cell_type": "markdown",
      "source": [
        "You can raise an exception manually in Python using the raise keyword.\n",
        "\n",
        "**Syntax:**"
      ],
      "metadata": {
        "id": "yr4I-vxSnPQO"
      }
    },
    {
      "cell_type": "code",
      "source": [
        "raise ExceptionType(\"Custom error message\")\n"
      ],
      "metadata": {
        "id": "vMa0-EBTnUDJ"
      },
      "execution_count": null,
      "outputs": []
    },
    {
      "cell_type": "markdown",
      "source": [
        "**Example:**"
      ],
      "metadata": {
        "id": "BsT-JlrmnXTf"
      }
    },
    {
      "cell_type": "code",
      "source": [
        "def divide(a, b):\n",
        "    if b == 0:\n",
        "        raise ZeroDivisionError(\"Cannot divide by zero\")  # Manually raising an exception\n",
        "    return a / b\n",
        "\n",
        "try:\n",
        "    result = divide(10, 0)\n",
        "except ZeroDivisionError as e:\n",
        "    print(f\"Error: {e}\")\n"
      ],
      "metadata": {
        "id": "IgbWkxHznYvC"
      },
      "execution_count": null,
      "outputs": []
    },
    {
      "cell_type": "markdown",
      "source": [
        "**Raising a Custom Exception:**"
      ],
      "metadata": {
        "id": "EajqXWA8nb7c"
      }
    },
    {
      "cell_type": "code",
      "source": [
        "class CustomError(Exception):\n",
        "    pass\n",
        "\n",
        "raise CustomError(\"This is a custom exception\")\n"
      ],
      "metadata": {
        "id": "jnoNX4o3ndp6"
      },
      "execution_count": null,
      "outputs": []
    },
    {
      "cell_type": "markdown",
      "source": [
        "## **Q25.Why is it important to use multithreading in certain applications?**"
      ],
      "metadata": {
        "id": "SdSBcSTJnkvk"
      }
    },
    {
      "cell_type": "markdown",
      "source": [
        "Multithreading is important in certain applications because it allows parallel execution of tasks, improving efficiency and performance, especially for I/O-bound operations.\n",
        "\n",
        "**Benefits of Multithreading:**\n",
        "\n",
        "**1.Better CPU Utilization** – Threads can run while waiting for I/O operations (e.g., network requests, file reading).\n",
        "\n",
        "**2.Faster Execution** – Multiple threads can execute concurrently, reducing overall execution time.\n",
        "\n",
        "**3.Improved Responsiveness** – In GUI applications, multithreading prevents the UI from freezing while performing background tasks.\n",
        "\n",
        "**4.Efficient Resource Sharing** – Threads share memory within the same process, reducing memory usage compared to multiprocessing.\n",
        "\n",
        "**5.Concurrency** – Enables handling multiple tasks simultaneously, like managing multiple client requests in a server.\n",
        "\n",
        "**Example: Multithreading in Python**"
      ],
      "metadata": {
        "id": "LfCvpUl8nrhj"
      }
    },
    {
      "cell_type": "code",
      "source": [
        "import threading\n",
        "\n",
        "def print_numbers():\n",
        "    for i in range(5):\n",
        "        print(i)\n",
        "\n",
        "thread = threading.Thread(target=print_numbers)\n",
        "thread.start()\n",
        "thread.join()  # Ensures the main thread waits for the new thread to finish\n"
      ],
      "metadata": {
        "colab": {
          "base_uri": "https://localhost:8080/"
        },
        "id": "zvqYJZyBpw_b",
        "outputId": "85f03c10-0791-4b7b-ab08-5b87d770087b"
      },
      "execution_count": null,
      "outputs": [
        {
          "output_type": "stream",
          "name": "stdout",
          "text": [
            "0\n",
            "1\n",
            "2\n",
            "3\n",
            "4\n"
          ]
        }
      ]
    },
    {
      "cell_type": "markdown",
      "source": [
        "# ***Practice Question***"
      ],
      "metadata": {
        "id": "6vQfYX2yp4GE"
      }
    },
    {
      "cell_type": "markdown",
      "source": [
        "## **Q1.How can you open a file for writing in Python and write a string to it?**"
      ],
      "metadata": {
        "id": "IZWjKK9ap_ac"
      }
    },
    {
      "cell_type": "markdown",
      "source": [
        "You can open a file for writing in Python using the open() function with the \"w\" mode. Here's a simple example:"
      ],
      "metadata": {
        "id": "2qvPv36LAh9M"
      }
    },
    {
      "cell_type": "code",
      "source": [
        "# Open a file in write mode\n",
        "with open(\"example.txt\", \"w\") as file:\n",
        "    # Write a string to the file\n",
        "    file.write(\"Hello, this is a test string!\")\n"
      ],
      "metadata": {
        "id": "yY_EY2EiAitv"
      },
      "execution_count": null,
      "outputs": []
    },
    {
      "cell_type": "markdown",
      "source": [
        "* \"w\" mode (write mode) creates the file if it doesn't exist and overwrites it if it does.\n",
        "\n",
        "* with open(...) as file ensures the file is automatically closed after writing.\n",
        "\n",
        "* file.write(\"text\") writes the string to the file.\n",
        "\n",
        "If you want to append instead of overwriting, use \"a\" mode:"
      ],
      "metadata": {
        "id": "_48kpsExFEGd"
      }
    },
    {
      "cell_type": "code",
      "source": [
        "with open(\"example.txt\", \"a\") as file:\n",
        "    file.write(\"\\nThis line is appended.\")\n"
      ],
      "metadata": {
        "id": "OFcNXnkhFOom"
      },
      "execution_count": null,
      "outputs": []
    },
    {
      "cell_type": "markdown",
      "source": [
        "## **Q2.Write a Python program to read the contents of a file and print each line.**"
      ],
      "metadata": {
        "id": "NZC7r4lKFYTA"
      }
    },
    {
      "cell_type": "code",
      "source": [
        "#Open the file in read mode\n",
        "with open(\"example.txt\",\"r\") as file:\n",
        "  #read and print each time\n",
        "  for line in file:\n",
        "    print(line, end=\"\") #end=\"\" to avoid extra new lines"
      ],
      "metadata": {
        "id": "XHkSV46VFfzS",
        "colab": {
          "base_uri": "https://localhost:8080/"
        },
        "outputId": "986018f2-8e30-4944-a2aa-8eee88e377d5"
      },
      "execution_count": null,
      "outputs": [
        {
          "output_type": "stream",
          "name": "stdout",
          "text": [
            "Hello, this is a test string!\n",
            "This line is appended."
          ]
        }
      ]
    },
    {
      "cell_type": "markdown",
      "source": [
        "* \"r\" mode opens the file for reading.\n",
        "\n",
        "* The for loop reads the file line by line, which is memory-efficient for large files.\n",
        "\n",
        "* print(line, end=\"\") avoids adding extra blank lines because line already contains a newline (\\n) from the file.\n",
        "\n",
        "If you want to read the entire content at once, you can use:"
      ],
      "metadata": {
        "id": "sv5WmvZDI38o"
      }
    },
    {
      "cell_type": "code",
      "source": [
        "with open(\"example.txt\",\"r\") as file:\n",
        "  content = file.read()\n",
        "  print(content)"
      ],
      "metadata": {
        "colab": {
          "base_uri": "https://localhost:8080/"
        },
        "id": "ZaDdj0UOJA6K",
        "outputId": "8e85938e-3aee-451c-9987-ab73a901782e"
      },
      "execution_count": null,
      "outputs": [
        {
          "output_type": "stream",
          "name": "stdout",
          "text": [
            "Hello, this is a test string!\n",
            "This line is appended.\n"
          ]
        }
      ]
    },
    {
      "cell_type": "markdown",
      "source": [
        "## **Q3.How would you handle a case where the file doesn't exist while trying to open it for reading?**"
      ],
      "metadata": {
        "id": "7XBbuM84JcLV"
      }
    },
    {
      "cell_type": "markdown",
      "source": [
        "You can handle the case where the file doesn't exist by using a try-except block to catch the FileNotFoundError.\n",
        "\n",
        "**Example**"
      ],
      "metadata": {
        "id": "oV2FFeiYJhlb"
      }
    },
    {
      "cell_type": "code",
      "source": [
        "try:\n",
        "  with open(\"example.txt\",\"r\") as file:\n",
        "    for line in file:\n",
        "      print(line,end=\"\") # Avoid extra new lines\n",
        "except FileNotFoundError:\n",
        "  print(\"Error:The file does not exist.\")"
      ],
      "metadata": {
        "colab": {
          "base_uri": "https://localhost:8080/"
        },
        "id": "Us1utLfOJnwo",
        "outputId": "8569e541-7eee-4e02-eb99-e4777413c590"
      },
      "execution_count": null,
      "outputs": [
        {
          "output_type": "stream",
          "name": "stdout",
          "text": [
            "Hello, this is a test string!\n",
            "This line is appended."
          ]
        }
      ]
    },
    {
      "cell_type": "markdown",
      "source": [
        "* The try block attempts to open and read the file.\n",
        "\n",
        "* If the file doesn't exist, a FileNotFoundError is raised.\n",
        "\n",
        "* The except block catches the error and prints a user-friendly message instead of crashing the program."
      ],
      "metadata": {
        "id": "bGGTuqkqKQni"
      }
    },
    {
      "cell_type": "markdown",
      "source": [
        "## **Q4.Write a Python script that reads from one file and writes its content to another file?**"
      ],
      "metadata": {
        "id": "J-3LUTXoKldC"
      }
    },
    {
      "cell_type": "code",
      "source": [
        "#open source file file for reading destination file for writing\n",
        "try:\n",
        "  with open(\"source.txt\",\"r\") as source, open(\"destination.txt\",\"w\") as destination:\n",
        "    for line in source:\n",
        "      destination.write(line) #write each line to the new life\n",
        "  print(\"File copied successfully\")\n",
        "except FileNotFoundError:\n",
        "  print(\"Error::Source file not found.\")\n"
      ],
      "metadata": {
        "colab": {
          "base_uri": "https://localhost:8080/"
        },
        "id": "tN2nxY5HLUI5",
        "outputId": "99508120-95ae-4e02-cbea-a73fd9e44ad6"
      },
      "execution_count": null,
      "outputs": [
        {
          "output_type": "stream",
          "name": "stdout",
          "text": [
            "Error::Source file not found.\n"
          ]
        }
      ]
    },
    {
      "cell_type": "markdown",
      "source": [
        "1. Opens source.txt in read mode (\"r\") and destination.txt in write mode (\"w\").\n",
        "\n",
        "2. Reads and writes line by line to handle large files efficiently.\n",
        "\n",
        "3. Uses a try-except block to catch FileNotFoundError if source.txt does not exist.\n",
        "\n",
        "4. Prints a success message after copying."
      ],
      "metadata": {
        "id": "ofZYrajcMOQ4"
      }
    },
    {
      "cell_type": "markdown",
      "source": [
        "## **Q5.How would you catch and handle division by zero error in Python?**"
      ],
      "metadata": {
        "id": "wyP2HUEtMXvl"
      }
    },
    {
      "cell_type": "code",
      "source": [
        "try:\n",
        "  num = int(input(\"Enter a number: \"))\n",
        "  result = 10/ num #This may cause a ZeroDivisionError\n",
        "  print(\"Result:\",result)\n",
        "except ZeroDivisionError:\n",
        "  print(\"Error: Division by zero is not allowed.\")"
      ],
      "metadata": {
        "colab": {
          "base_uri": "https://localhost:8080/"
        },
        "id": "45dggcxCSrwP",
        "outputId": "abe80873-caf1-4d21-cf85-368086f293ea"
      },
      "execution_count": null,
      "outputs": [
        {
          "output_type": "stream",
          "name": "stdout",
          "text": [
            "Enter a number: 20\n",
            "Result: 0.5\n"
          ]
        }
      ]
    },
    {
      "cell_type": "markdown",
      "source": [
        "1. The try block attempts to perform division.\n",
        "\n",
        "2. If num is 0, a ZeroDivisionError is raised.\n",
        "\n",
        "3. The except block catches the error and prints a friendly message instead of crashing the program.\n",
        "\n",
        "**Handling multiple errors:**\n",
        "\n",
        "If you want to catch other errors (like invalid input), you can add another except block:"
      ],
      "metadata": {
        "id": "kV6fy4PXTPcb"
      }
    },
    {
      "cell_type": "code",
      "source": [
        "try:\n",
        "  num = int(input(\"Enter a number: \"))\n",
        "  result = 10 / num\n",
        "  print(\"Result:\",result)\n",
        "except ZeroDivisionError:\n",
        "  print(\"Error:Division by zero is not allowed.\")\n",
        "except ValueError:\n",
        "  print(\"Error: Please enter  a valid number.\")"
      ],
      "metadata": {
        "colab": {
          "base_uri": "https://localhost:8080/"
        },
        "id": "cdM2OoPwTgDh",
        "outputId": "79fa1c9a-eed7-4043-bb87-d36e08c1f603"
      },
      "execution_count": null,
      "outputs": [
        {
          "output_type": "stream",
          "name": "stdout",
          "text": [
            "Enter a number: tfh\n",
            "Error: Please enter  a valid number.\n"
          ]
        }
      ]
    },
    {
      "cell_type": "markdown",
      "source": [
        "## **Q6.Write a Python program that logs an error message to a log file when a division by zero exception occurs.**"
      ],
      "metadata": {
        "id": "hpouxElrUWQY"
      }
    },
    {
      "cell_type": "markdown",
      "source": [
        "Here's a Python program that logs a division by zero error to a log file (error.log) using Python's built-in logging module:"
      ],
      "metadata": {
        "id": "DzOyh979Ue_m"
      }
    },
    {
      "cell_type": "code",
      "source": [
        "import logging\n",
        "\n",
        "#Configure logging to write errors toa file\n",
        "logging.basicConfig(filename=\"error.log\",level=logging.ERROR,format=\"%(asctime)s - %(levelname)s - %(message)s\")\n",
        "\n",
        "try:\n",
        "  num = int(input(\"Enter a number: \"))\n",
        "  result = 10/ num\n",
        "  print(\"Result:\",result)\n",
        "except ZeroDivisionError:\n",
        "  logging.error(\"Attempted dvision by zero.\")\n",
        "  print(\"Error: Division by zero is not allowed. check error.log for details.\")\n",
        "except ValueError:\n",
        "  logging.error(\"Invalid input. Non-numeri value enterd.\")\n",
        "  print(\"Error: Please enter a valid number.\")"
      ],
      "metadata": {
        "colab": {
          "base_uri": "https://localhost:8080/"
        },
        "id": "6YjGAI8WUqQ0",
        "outputId": "358a6c6f-f7c7-4d0b-f145-38604c4ea7c8"
      },
      "execution_count": null,
      "outputs": [
        {
          "name": "stdout",
          "output_type": "stream",
          "text": [
            "Enter a number: jkgl\n"
          ]
        },
        {
          "output_type": "stream",
          "name": "stderr",
          "text": [
            "ERROR:root:Invalid input. Non-numeri value enterd.\n"
          ]
        },
        {
          "output_type": "stream",
          "name": "stdout",
          "text": [
            "Error: Please enter a valid number.\n"
          ]
        }
      ]
    },
    {
      "cell_type": "markdown",
      "source": [
        "1.Configures logging to store errors in error.log.\n",
        "\n",
        "2.Tries to divide 10 by user input.\n",
        "\n",
        "3.Catches ZeroDivisionError, logs it, and notifies the user.\n",
        "\n",
        "4.Handles ValueError in case of invalid input (e.g., letters instead of numbers)"
      ],
      "metadata": {
        "id": "xM2TqFReWLyK"
      }
    },
    {
      "cell_type": "markdown",
      "source": [
        "## **Q7.How do you log information at different levels (INFO, ERROR, WARNING) in Python using the logging module?**"
      ],
      "metadata": {
        "id": "hiazcbO8WZXH"
      }
    },
    {
      "cell_type": "code",
      "source": [
        "import logging\n",
        "\n",
        "#configure logging to write to a file and include timestamp and log level\n",
        "logging.basicConfig(filename=\"app.log\", level=logging.DEBUG,\n",
        "                    format=\"%(asctime)s - %(levelname)s - %(message)s\")\n",
        "\n",
        "#logging messages at different levels\n",
        "logging.debug(\"This is a DEBUG message: useful for debugging.\")\n",
        "logging.info(\"This is an INFO message: general runtime information.\")\n",
        "logging.warning(\"This is a WARNING messsage: something unexpeected happened.\")\n",
        "logging.error(\"This is an ERROR message: something unexcepted happened.\")\n",
        "logging.critical(\"This is a CRITICAL message: sysytem failure!\")\n",
        "\n",
        "print(\"Logs have been written to 'app.log'\")"
      ],
      "metadata": {
        "colab": {
          "base_uri": "https://localhost:8080/"
        },
        "id": "y4AhGR9HYU5f",
        "outputId": "3ff9b79d-00c7-4c68-ee62-86dc1a095248"
      },
      "execution_count": null,
      "outputs": [
        {
          "output_type": "stream",
          "name": "stderr",
          "text": [
            "WARNING:root:This is a WARNING messsage: something unexpeected happened.\n",
            "ERROR:root:This is an ERROR message: something unexcepted happened.\n",
            "CRITICAL:root:This is a CRITICAL message: sysytem failure!\n"
          ]
        },
        {
          "output_type": "stream",
          "name": "stdout",
          "text": [
            "Logs have been written to 'app.log'\n"
          ]
        }
      ]
    },
    {
      "cell_type": "markdown",
      "source": [
        "## **Q8.Write a program to handle a file opening error using exception handling?**"
      ],
      "metadata": {
        "id": "UCe5V5z-dMbN"
      }
    },
    {
      "cell_type": "code",
      "source": [
        "try:\n",
        "  #attempting to open a file that may not exist\n",
        "  with open(\"non_exist_file.txt\",\"r\") as file:\n",
        "    content = file.read()\n",
        "    print(content)\n",
        "except FileNotFoundError:\n",
        "  print(\"Error: The file was not found.Please check the file and try again.\")\n",
        "except PermissionError:\n",
        "  print(\"Error: Permission denied. You don't have access to this file.\")\n",
        "except Exception as e:\n",
        "  print(f\"An unexcepted error occurred:{e}\")"
      ],
      "metadata": {
        "colab": {
          "base_uri": "https://localhost:8080/"
        },
        "id": "IGJpW7nZfswl",
        "outputId": "e34fb5ab-3889-4879-c71a-00b93735114b"
      },
      "execution_count": null,
      "outputs": [
        {
          "output_type": "stream",
          "name": "stdout",
          "text": [
            "Error: The file was not found.Please check the file and try again.\n"
          ]
        }
      ]
    },
    {
      "cell_type": "markdown",
      "source": [
        "* try block attempts to open a file that may not exist.\n",
        "\n",
        "* except FileNotFoundError catches the case where the file does not exist and prints an error message.\n",
        "\n",
        "* except PermissionError handles cases where the program doesn't have permission to open the file.\n",
        "\n",
        "* except Exception as e is a general catch-all for any other unexpected errors."
      ],
      "metadata": {
        "id": "kkVuh6UagnS-"
      }
    },
    {
      "cell_type": "markdown",
      "source": [
        "Q9. How can you read a file line by line and store its content in a list in Python?"
      ],
      "metadata": {
        "id": "X_1kab6Agtxq"
      }
    },
    {
      "cell_type": "markdown",
      "source": [
        "**Method 1: Using readlines()**"
      ],
      "metadata": {
        "id": "01JTn1-PhVnG"
      }
    },
    {
      "cell_type": "code",
      "source": [
        "with open(\"example.txt\",\"r\") as file:\n",
        "  lines = file.readlines()\n",
        "\n",
        "print(lines)"
      ],
      "metadata": {
        "colab": {
          "base_uri": "https://localhost:8080/"
        },
        "id": "Np9CidThhdI5",
        "outputId": "8a41fa06-72a2-4481-a645-69c345bc32fc"
      },
      "execution_count": null,
      "outputs": [
        {
          "output_type": "stream",
          "name": "stdout",
          "text": [
            "['Hello, this is a test string!\\n', 'This line is appended.']\n"
          ]
        }
      ]
    },
    {
      "cell_type": "markdown",
      "source": [
        "* Pros: Simple and efficient for small to medium-sized files.\n",
        "* Cons: May use more memory for very large files since it loads all lines at once.\n",
        "\n"
      ],
      "metadata": {
        "id": "_aMYplEyhwIp"
      }
    },
    {
      "cell_type": "markdown",
      "source": [
        "**Method 2: Using a Loop (More Memory-Efficient)**"
      ],
      "metadata": {
        "id": "9BR3BG-Phy0C"
      }
    },
    {
      "cell_type": "code",
      "source": [
        "lines = []\n",
        "with open(\"example.txt\",\"r\") as file:\n",
        "  for line in file:\n",
        "    lines.append(line.strip()) #removes newline characters\n",
        "\n",
        "print(lines)"
      ],
      "metadata": {
        "colab": {
          "base_uri": "https://localhost:8080/"
        },
        "id": "Ypk15m9Wh1dr",
        "outputId": "d166ea58-f185-4c93-aa9f-0770942d623e"
      },
      "execution_count": null,
      "outputs": [
        {
          "output_type": "stream",
          "name": "stdout",
          "text": [
            "['Hello, this is a test string!', 'This line is appended.']\n"
          ]
        }
      ]
    },
    {
      "cell_type": "markdown",
      "source": [
        "* Pros: More memory-efficient for large files.\n",
        "* Bonus: .strip() removes trailing \\n for cleaner output."
      ],
      "metadata": {
        "id": "ZxGBku9HiLmf"
      }
    },
    {
      "cell_type": "markdown",
      "source": [
        "## **Q10.How can you append data to an existing file in Python?**"
      ],
      "metadata": {
        "id": "ghew6TZQiQ4C"
      }
    },
    {
      "cell_type": "code",
      "source": [
        "#open the file in append mode\n",
        "with open(\"example.txt\",\"a\") as file:\n",
        "  file.write(\"\\nThis is a ne line added to the file.\")"
      ],
      "metadata": {
        "id": "zVsZNblZia3v"
      },
      "execution_count": null,
      "outputs": []
    },
    {
      "cell_type": "markdown",
      "source": [
        "* \"a\" mode opens the file for appending (creates the file if it doesn't exist).\n",
        "\n",
        "* .write() adds new content at the end of the file.\n",
        "\n",
        "* \\n ensures the new text appears on a new line.\n",
        "\n",
        "**Appending Multiple Lines**\n",
        "If you want to append multiple lines, use .writelines():"
      ],
      "metadata": {
        "id": "y5Lq9HXdnOvN"
      }
    },
    {
      "cell_type": "code",
      "source": [
        "with open(\"example.txt\", \"a\") as file:\n",
        "    file.writelines([\"\\nLine 1\", \"\\nLine 2\", \"\\nLine 3\"])\n"
      ],
      "metadata": {
        "id": "x_CehtDonXmq"
      },
      "execution_count": null,
      "outputs": []
    },
    {
      "cell_type": "markdown",
      "source": [
        "## **Q11.Write a Python program that uses a try-except block to handle an error when attempting to access a dictionary key that doesn't exist.**"
      ],
      "metadata": {
        "id": "y4va-bkJnfGh"
      }
    },
    {
      "cell_type": "code",
      "source": [
        "#sample dictionary\n",
        "student_scores = {\n",
        "    \"Rajat\":85,\n",
        "    \"Rohan\":90,\n",
        "    \"Raman\": 95\n",
        "}\n",
        "\n",
        "try:\n",
        "  #Attempt to access a key that may not exist\n",
        "  name = input(\"Enter student name:\")\n",
        "  score = student_scores[name]\n",
        "  print(f\"{name}'sscore is {score}\")\n",
        "except KeyError:\n",
        "  print(f\"Error:'{name}' not found in the directory.Please check the name and try again.\")"
      ],
      "metadata": {
        "colab": {
          "base_uri": "https://localhost:8080/"
        },
        "id": "PmDlSe_xn3H0",
        "outputId": "b51a1c0e-f526-4002-8f7c-4faa30b9267a"
      },
      "execution_count": null,
      "outputs": [
        {
          "output_type": "stream",
          "name": "stdout",
          "text": [
            "Enter student name:Rajat\n",
            "Rajat'sscore is 85\n"
          ]
        }
      ]
    },
    {
      "cell_type": "markdown",
      "source": [
        "1.The dictionary student_scores stores student names as keys and their scores as values.\n",
        "\n",
        "2.The user enters a name, and the program tries to access its score.\n",
        "\n",
        "3.If the name does not exist, a KeyError occurs, which is caught in the except block.\n",
        "\n",
        "4.The program prints an error message instead of crashing.\n",
        "\n",
        "**Alternative: Using .get() to Avoid Exceptions**\n",
        "Instead of using try-except, you can use .get() which returns None if the key is missing:"
      ],
      "metadata": {
        "id": "UWvhA088I049"
      }
    },
    {
      "cell_type": "code",
      "source": [
        "name = input(\"Ennter student name: \")\n",
        "score = student_scores.get(name,\"Student not found\")\n",
        "print(score)"
      ],
      "metadata": {
        "colab": {
          "base_uri": "https://localhost:8080/"
        },
        "id": "PpMuhT-WJHHn",
        "outputId": "e54d6cb5-3ecb-4c12-a054-620668d033ed"
      },
      "execution_count": null,
      "outputs": [
        {
          "output_type": "stream",
          "name": "stdout",
          "text": [
            "Ennter student name: Rajat\n",
            "85\n"
          ]
        }
      ]
    },
    {
      "cell_type": "markdown",
      "source": [
        "## **Q12.Write a program that demonstrates using multiple except blocks to handle different types of exceptions.**"
      ],
      "metadata": {
        "id": "JoLZjUdspq1u"
      }
    },
    {
      "cell_type": "code",
      "source": [
        "try:\n",
        "  num1 = int(input(\"Enter the first number: \"))\n",
        "  num2 = int(input(\"Enter the second number: \"))\n",
        "  result = num1/num2\n",
        "  print(f\"Result:{result}\")\n",
        "\n",
        "except ValueError:\n",
        "  print(\"Error: Inavlid input! Please enter a valid integer.\")\n",
        "\n",
        "except ZeroDivisionError:\n",
        "  print(\"Error:Division by zero is not allowed.\")\n",
        "\n",
        "except Exception as e:\n",
        "  print(f\"An unexpected error occured:{e}\")"
      ],
      "metadata": {
        "colab": {
          "base_uri": "https://localhost:8080/"
        },
        "id": "gJV8BmmCJybt",
        "outputId": "1c5a9be7-a0db-46dd-8d92-61611d0e686f"
      },
      "execution_count": null,
      "outputs": [
        {
          "output_type": "stream",
          "name": "stdout",
          "text": [
            "Enter the first number: hjn\n",
            "Error: Inavlid input! Please enter a valid integer.\n"
          ]
        }
      ]
    },
    {
      "cell_type": "markdown",
      "source": [
        "## **Q13.How would you check if a file exists before attempting to read it in Python?**"
      ],
      "metadata": {
        "id": "DfVONGsULJiV"
      }
    },
    {
      "cell_type": "markdown",
      "source": [
        "**Method 1:Using os.path.exits()**"
      ],
      "metadata": {
        "id": "Wsc88dWNMKWh"
      }
    },
    {
      "cell_type": "code",
      "source": [
        "import os\n",
        "\n",
        "filename = \"example.txt\"\n",
        "\n",
        "if os.path.exists(filename):\n",
        "  with open(filename,\"r\") as file:\n",
        "    content = file.read()\n",
        "    print(content)\n",
        "\n",
        "else:\n",
        "  print(f\"Error:The file '{filename} does not exist.\")"
      ],
      "metadata": {
        "colab": {
          "base_uri": "https://localhost:8080/"
        },
        "id": "pP_5anIvMQgi",
        "outputId": "3ab977e7-04bf-46a9-a554-6b58b5dd357a"
      },
      "execution_count": null,
      "outputs": [
        {
          "output_type": "stream",
          "name": "stdout",
          "text": [
            "Error:The file 'example.txt does not exist.\n"
          ]
        }
      ]
    },
    {
      "cell_type": "markdown",
      "source": [
        "**Method 2:Using pathlib (Recommended)**"
      ],
      "metadata": {
        "id": "Rx-_-T7NM26F"
      }
    },
    {
      "cell_type": "code",
      "source": [
        "import os\n",
        "\n",
        "filename =\"example.txt\"\n",
        "\n",
        "if os.path.exists(filename):\n",
        "  with open(filename,\"r\")as file:\n",
        "    content = file.read()\n",
        "    print(content)\n",
        "else:\n",
        "  print(f\"Error: The file '{filename}' does not exist\")"
      ],
      "metadata": {
        "colab": {
          "base_uri": "https://localhost:8080/"
        },
        "id": "XR89L3xGNDUO",
        "outputId": "4ad7fc67-73f5-4f8d-fd52-1a305da78c66"
      },
      "execution_count": null,
      "outputs": [
        {
          "output_type": "stream",
          "name": "stdout",
          "text": [
            "Error: The file 'example.txt' does not exist\n"
          ]
        }
      ]
    },
    {
      "cell_type": "markdown",
      "source": [
        "**Method2: Using pathlib (Recommended)**"
      ],
      "metadata": {
        "id": "liw-3yFXNkZ3"
      }
    },
    {
      "cell_type": "code",
      "source": [
        "from pathlib import Path\n",
        "\n",
        "file_path = Path(\"example.txt\")\n",
        "\n",
        "if file_path.is_file(): #check if the file exits and is a file:\n",
        "  with file_path.open(\"r\") as file:\n",
        "    content = file.read()\n",
        "    print(content)\n",
        "else:\n",
        "  print(f\"Error: The file '{file_path}'does not exist.\")"
      ],
      "metadata": {
        "colab": {
          "base_uri": "https://localhost:8080/"
        },
        "id": "hlJVzdBLNqyP",
        "outputId": "e0052c16-762a-45af-d4b6-0c04497a852f"
      },
      "execution_count": null,
      "outputs": [
        {
          "output_type": "stream",
          "name": "stdout",
          "text": [
            "Error: The file 'example.txt'does not exist.\n"
          ]
        }
      ]
    },
    {
      "cell_type": "markdown",
      "source": [
        "**Alternative: Using try-except**"
      ],
      "metadata": {
        "id": "I2G0gP-fOlys"
      }
    },
    {
      "cell_type": "code",
      "source": [
        "try:\n",
        "  with open(\"example.txt\",\"r\") as file:\n",
        "    content = file.read()\n",
        "except FileNotFoundError:\n",
        "  print(\"Error:The file does not exist.\")"
      ],
      "metadata": {
        "colab": {
          "base_uri": "https://localhost:8080/"
        },
        "id": "4HCDvEgBOu-p",
        "outputId": "5e90d257-04a2-4a71-bfe0-fae8bc7b8339"
      },
      "execution_count": null,
      "outputs": [
        {
          "output_type": "stream",
          "name": "stdout",
          "text": [
            "Error:The file does not exist.\n"
          ]
        }
      ]
    },
    {
      "cell_type": "markdown",
      "source": [
        "## **Q14.Write a program that uses the logging module to log both informational and error messages.**"
      ],
      "metadata": {
        "id": "Aryo26J2PGhr"
      }
    },
    {
      "cell_type": "code",
      "source": [
        "import logging\n",
        "\n",
        "#Configure Logging\n",
        "logging.basicConfig(filename=\"app.log\", level=logging.DEBUG, format=\"%(asctime)s - %(levelname)s - %(message)s\")\n",
        "\n",
        "def divide_numbers(a, b):\n",
        "  \"\"\"Function to divide two numbers with error handling\"\"\"\n",
        "  try:\n",
        "    logging.info(f\"Attempting to divide {a} by{b}\")\n",
        "    result = a/b\n",
        "    logging.info(f\"Division successful: {a} / {b} = {result}\")\n",
        "    return result\n",
        "  except ZeroDivisionError:\n",
        "    logging.error(\"Error:Division by zero attempted.\")\n",
        "    return \"Error:Cannot divide by zero\"\n",
        "  except Exception as e:\n",
        "    logging.error(f\"Unexpected error: {e}\")\n",
        "    return f\"Error:{e}\"\n",
        "\n",
        "#Example usage\n",
        "print(divide_numbers(10,2)) #valid division\n",
        "print(divide_numbers(5,0)) #Triggers ZeroDivisionError\n",
        "print(divide_numbers(\"a\",45)) #Triggers TypError\n",
        "\n",
        "print(\"Logs have been saved in 'app.log'\")"
      ],
      "metadata": {
        "colab": {
          "base_uri": "https://localhost:8080/"
        },
        "id": "EltkKlwTPPJD",
        "outputId": "fcc3db77-3ba1-4810-d260-4b2790411a59"
      },
      "execution_count": null,
      "outputs": [
        {
          "output_type": "stream",
          "name": "stderr",
          "text": [
            "ERROR:root:Error:Division by zero attempted.\n",
            "ERROR:root:Unexpected error: unsupported operand type(s) for /: 'str' and 'int'\n"
          ]
        },
        {
          "output_type": "stream",
          "name": "stdout",
          "text": [
            "5.0\n",
            "Error:Cannot divide by zero\n",
            "Error:unsupported operand type(s) for /: 'str' and 'int'\n",
            "Logs have been saved in 'app.log'\n"
          ]
        }
      ]
    },
    {
      "cell_type": "markdown",
      "source": [
        "**1.Configures logging to:**\n",
        "* Save logs to app.log\n",
        "* Capture DEBUG level and above messages\n",
        "* Include a timestamp, log level, and message\n",
        "\n",
        "**2.Logs different messages:**\n",
        "* logging.info() for normal operations\n",
        "* logging.error() for exceptions\n",
        "\n",
        "**3.Handles errors:**\n",
        "* ZeroDivisionError: Logs an error when dividing by zero.\n",
        "* Exception: Catches any unexpected errors and logs them.\n"
      ],
      "metadata": {
        "id": "YQGgv5qBTaJn"
      }
    },
    {
      "cell_type": "markdown",
      "source": [
        "## **Q15.Write a Python program that prints the content of a file and handles the case when the file is empty**"
      ],
      "metadata": {
        "id": "y6Oh2bz9USOx"
      }
    },
    {
      "cell_type": "code",
      "source": [
        "import os\n",
        "\n",
        "def read_file(filename):\n",
        "  '''Function to read and print file content, handling, handling empty file cases.'''\n",
        "  if not os.path.exists(filename):\n",
        "    print(f\"Error: The file '{filename}' does not exist.\")\n",
        "    return\n",
        "\n",
        "  with open(filename,\"r\") as file:\n",
        "      content = file.read().strip()\n",
        "\n",
        "      if content:\n",
        "        print(\"File Content\")\n",
        "        print(content)\n",
        "\n",
        "      else:\n",
        "        print(f\"Warning: The file '{filename}' is empty\")\n",
        "\n",
        "#Example usage\n",
        "filename = \"example.txt\"\n",
        "read_file(filename)"
      ],
      "metadata": {
        "colab": {
          "base_uri": "https://localhost:8080/"
        },
        "id": "7bVI9uKAUaeh",
        "outputId": "83861ead-8f67-492c-b699-efda5ca705a1"
      },
      "execution_count": null,
      "outputs": [
        {
          "output_type": "stream",
          "name": "stdout",
          "text": [
            "Error: The file 'example.txt' does not exist.\n"
          ]
        }
      ]
    },
    {
      "cell_type": "markdown",
      "source": [
        "## **Q16.Demonstrate how to use memory profiling to check the memory usage of a small program.**"
      ],
      "metadata": {
        "id": "T4lO8vizLHoO"
      }
    },
    {
      "cell_type": "code",
      "source": [
        "from memory_profiler import memory_usage\n",
        "import time\n",
        "def process_data():\n",
        "  \"\"\"A function that creates a large list to simulate memory usage.\"\"\"\n",
        "  print(\"Processing data...\")\n",
        "  data = [x ** 2 for x in range(100000000)]\n",
        "  time.sleep(2)\n",
        "  return sum(data)\n",
        "\n",
        "#Measure memory before and after calling the function\n",
        "mem_before = memory_usage()[0] #get current usage\n",
        "result = process_data() #call the function\n",
        "mem_after = memory_usage()[0] #get memory usage after execution\n",
        "\n",
        "\n",
        "print(f\"Memory before: {mem_before} MiB\")\n",
        "print(f\"Memory after: {mem_after} MiB\")\n",
        "print(f\"Memory used: {mem_after - mem_before} MiB\")"
      ],
      "metadata": {
        "colab": {
          "base_uri": "https://localhost:8080/"
        },
        "id": "jD3a8oq8RPHl",
        "outputId": "1a5581e0-d492-4dc5-93e3-b5990369e703"
      },
      "execution_count": 24,
      "outputs": [
        {
          "output_type": "stream",
          "name": "stdout",
          "text": [
            "Processing data...\n",
            "Memory before: 321.515625 MiB\n",
            "Memory after: 4148.25390625 MiB\n",
            "Memory used: 3826.73828125 MiB\n"
          ]
        }
      ]
    },
    {
      "cell_type": "markdown",
      "source": [
        "## **Q17.Write a Python program to create and write a list of numbers to a file, one number per line.**"
      ],
      "metadata": {
        "id": "vxwCB-OaarZb"
      }
    },
    {
      "cell_type": "code",
      "source": [
        "def write_numbers_to_file(filename,numbers):\n",
        "  \"\"\"Writes a list of numbers to a file, one number pe line.\"\"\"\n",
        "  try:\n",
        "    with open(filename,\"w\") as file:\n",
        "      for number in numbers:\n",
        "        file.write(f\"{numbers}\\n\")\n",
        "    print(f\"Numbers successfully written to {filename}\")\n",
        "  except Exception as e:\n",
        "    print(f\"Error writing to file:{e}\")\n",
        "\n",
        "#Example usage\n",
        "numbers = list(range(1,21))\n",
        "filename = \"numbers.txt\"\n",
        "write_numbers_to_file(filename,numbers)"
      ],
      "metadata": {
        "colab": {
          "base_uri": "https://localhost:8080/"
        },
        "id": "qBNoJ87Xa7KZ",
        "outputId": "b0a44302-a6f2-4a44-b736-7c1eb9f82328"
      },
      "execution_count": 27,
      "outputs": [
        {
          "output_type": "stream",
          "name": "stdout",
          "text": [
            "Numbers successfully written to numbers.txt\n"
          ]
        }
      ]
    },
    {
      "cell_type": "markdown",
      "source": [
        "**How It Works**\n",
        "1.The function write_numbers_to_file():\n",
        "* Opens a file in write ('w') mode.\n",
        "\n",
        "* Iterates through the list of numbers.\n",
        "\n",
        "* Writes each number to the file followed by a newline (\\n).\n",
        "* Handles exceptions in case of errors (e.g., permission issues).\n",
        "\n",
        "2.The program generates numbers from 1 to 20 using range(1, 21).\n",
        "\n",
        "3.It writes the numbers into numbers.tx"
      ],
      "metadata": {
        "id": "8sleq8OjeZK9"
      }
    },
    {
      "cell_type": "markdown",
      "source": [
        "## **Q18.How would you implement a basic logging setup that logs to a file with rotation after 1MB?**"
      ],
      "metadata": {
        "id": "gGv2aZ0xer8e"
      }
    },
    {
      "cell_type": "code",
      "source": [
        "import logging\n",
        "from logging.handlers import RotatingFileHandler\n",
        "\n",
        "#define the file name\n",
        "log_filename = \"app.log\"\n",
        "\n",
        "#create a rotating file handler (max size = 1MB,keep last 3 backups)\n",
        "handler = RotatingFileHandler(log_filename, maxBytes=1048, backupCount=3)\n",
        "\n",
        "#define log format\n",
        "formatter = logging.Formatter('%(asctime)s - %(levelname)s - %(message)s')\n",
        "\n",
        "#attach formatter to handler\n",
        "handler.setFormatter(formatter)\n",
        "\n",
        "#create logger\n",
        "logger = logging.getLogger(\"MyLogger\")\n",
        "logger.setLevel(logging.INFO) #set logging level\n",
        "logger.addHandler(handler) #attach handler to logger\n",
        "\n",
        "#example log messages\n",
        "for i in range(1000):\n",
        "  logger.info(f\"log message{i}\")\n",
        "\n",
        "print(f\"Logging setup complete.Logs are written to {log_filename}\")"
      ],
      "metadata": {
        "colab": {
          "base_uri": "https://localhost:8080/"
        },
        "id": "Ab7F-PM1rMCd",
        "outputId": "c2999955-83ef-45f5-92f8-5f7ba380c269"
      },
      "execution_count": 39,
      "outputs": [
        {
          "output_type": "stream",
          "name": "stderr",
          "text": [
            "INFO:MyLogger:log message0\n",
            "INFO:MyLogger:log message1\n",
            "INFO:MyLogger:log message2\n",
            "INFO:MyLogger:log message3\n",
            "INFO:MyLogger:log message4\n",
            "INFO:MyLogger:log message5\n",
            "INFO:MyLogger:log message6\n",
            "INFO:MyLogger:log message7\n",
            "INFO:MyLogger:log message8\n",
            "INFO:MyLogger:log message9\n",
            "INFO:MyLogger:log message10\n",
            "INFO:MyLogger:log message11\n",
            "INFO:MyLogger:log message12\n",
            "INFO:MyLogger:log message13\n",
            "INFO:MyLogger:log message14\n",
            "INFO:MyLogger:log message15\n",
            "INFO:MyLogger:log message16\n",
            "INFO:MyLogger:log message17\n",
            "INFO:MyLogger:log message18\n",
            "INFO:MyLogger:log message19\n",
            "INFO:MyLogger:log message20\n",
            "INFO:MyLogger:log message21\n",
            "INFO:MyLogger:log message22\n",
            "INFO:MyLogger:log message23\n",
            "INFO:MyLogger:log message24\n",
            "INFO:MyLogger:log message25\n",
            "INFO:MyLogger:log message26\n",
            "INFO:MyLogger:log message27\n",
            "INFO:MyLogger:log message28\n",
            "INFO:MyLogger:log message29\n",
            "INFO:MyLogger:log message30\n",
            "INFO:MyLogger:log message31\n",
            "INFO:MyLogger:log message32\n",
            "INFO:MyLogger:log message33\n",
            "INFO:MyLogger:log message34\n",
            "INFO:MyLogger:log message35\n",
            "INFO:MyLogger:log message36\n",
            "INFO:MyLogger:log message37\n",
            "INFO:MyLogger:log message38\n",
            "INFO:MyLogger:log message39\n",
            "INFO:MyLogger:log message40\n",
            "INFO:MyLogger:log message41\n",
            "INFO:MyLogger:log message42\n",
            "INFO:MyLogger:log message43\n",
            "INFO:MyLogger:log message44\n",
            "INFO:MyLogger:log message45\n",
            "INFO:MyLogger:log message46\n",
            "INFO:MyLogger:log message47\n",
            "INFO:MyLogger:log message48\n",
            "INFO:MyLogger:log message49\n",
            "INFO:MyLogger:log message50\n",
            "INFO:MyLogger:log message51\n",
            "INFO:MyLogger:log message52\n",
            "INFO:MyLogger:log message53\n",
            "INFO:MyLogger:log message54\n",
            "INFO:MyLogger:log message55\n",
            "INFO:MyLogger:log message56\n",
            "INFO:MyLogger:log message57\n",
            "INFO:MyLogger:log message58\n",
            "INFO:MyLogger:log message59\n",
            "INFO:MyLogger:log message60\n",
            "INFO:MyLogger:log message61\n",
            "INFO:MyLogger:log message62\n",
            "INFO:MyLogger:log message63\n",
            "INFO:MyLogger:log message64\n",
            "INFO:MyLogger:log message65\n",
            "INFO:MyLogger:log message66\n",
            "INFO:MyLogger:log message67\n",
            "INFO:MyLogger:log message68\n",
            "INFO:MyLogger:log message69\n",
            "INFO:MyLogger:log message70\n",
            "INFO:MyLogger:log message71\n",
            "INFO:MyLogger:log message72\n",
            "INFO:MyLogger:log message73\n",
            "INFO:MyLogger:log message74\n",
            "INFO:MyLogger:log message75\n",
            "INFO:MyLogger:log message76\n",
            "INFO:MyLogger:log message77\n",
            "INFO:MyLogger:log message78\n",
            "INFO:MyLogger:log message79\n",
            "INFO:MyLogger:log message80\n",
            "INFO:MyLogger:log message81\n",
            "INFO:MyLogger:log message82\n",
            "INFO:MyLogger:log message83\n",
            "INFO:MyLogger:log message84\n",
            "INFO:MyLogger:log message85\n",
            "INFO:MyLogger:log message86\n",
            "INFO:MyLogger:log message87\n",
            "INFO:MyLogger:log message88\n",
            "INFO:MyLogger:log message89\n",
            "INFO:MyLogger:log message90\n",
            "INFO:MyLogger:log message91\n",
            "INFO:MyLogger:log message92\n",
            "INFO:MyLogger:log message93\n",
            "INFO:MyLogger:log message94\n",
            "INFO:MyLogger:log message95\n",
            "INFO:MyLogger:log message96\n",
            "INFO:MyLogger:log message97\n",
            "INFO:MyLogger:log message98\n",
            "INFO:MyLogger:log message99\n",
            "INFO:MyLogger:log message100\n",
            "INFO:MyLogger:log message101\n",
            "INFO:MyLogger:log message102\n",
            "INFO:MyLogger:log message103\n",
            "INFO:MyLogger:log message104\n",
            "INFO:MyLogger:log message105\n",
            "INFO:MyLogger:log message106\n",
            "INFO:MyLogger:log message107\n",
            "INFO:MyLogger:log message108\n",
            "INFO:MyLogger:log message109\n",
            "INFO:MyLogger:log message110\n",
            "INFO:MyLogger:log message111\n",
            "INFO:MyLogger:log message112\n",
            "INFO:MyLogger:log message113\n",
            "INFO:MyLogger:log message114\n",
            "INFO:MyLogger:log message115\n",
            "INFO:MyLogger:log message116\n",
            "INFO:MyLogger:log message117\n",
            "INFO:MyLogger:log message118\n",
            "INFO:MyLogger:log message119\n",
            "INFO:MyLogger:log message120\n",
            "INFO:MyLogger:log message121\n",
            "INFO:MyLogger:log message122\n",
            "INFO:MyLogger:log message123\n",
            "INFO:MyLogger:log message124\n",
            "INFO:MyLogger:log message125\n",
            "INFO:MyLogger:log message126\n",
            "INFO:MyLogger:log message127\n",
            "INFO:MyLogger:log message128\n",
            "INFO:MyLogger:log message129\n",
            "INFO:MyLogger:log message130\n",
            "INFO:MyLogger:log message131\n",
            "INFO:MyLogger:log message132\n",
            "INFO:MyLogger:log message133\n",
            "INFO:MyLogger:log message134\n",
            "INFO:MyLogger:log message135\n",
            "INFO:MyLogger:log message136\n",
            "INFO:MyLogger:log message137\n",
            "INFO:MyLogger:log message138\n",
            "INFO:MyLogger:log message139\n",
            "INFO:MyLogger:log message140\n",
            "INFO:MyLogger:log message141\n",
            "INFO:MyLogger:log message142\n",
            "INFO:MyLogger:log message143\n",
            "INFO:MyLogger:log message144\n",
            "INFO:MyLogger:log message145\n",
            "INFO:MyLogger:log message146\n",
            "INFO:MyLogger:log message147\n",
            "INFO:MyLogger:log message148\n",
            "INFO:MyLogger:log message149\n",
            "INFO:MyLogger:log message150\n",
            "INFO:MyLogger:log message151\n",
            "INFO:MyLogger:log message152\n",
            "INFO:MyLogger:log message153\n",
            "INFO:MyLogger:log message154\n",
            "INFO:MyLogger:log message155\n",
            "INFO:MyLogger:log message156\n",
            "INFO:MyLogger:log message157\n",
            "INFO:MyLogger:log message158\n",
            "INFO:MyLogger:log message159\n",
            "INFO:MyLogger:log message160\n",
            "INFO:MyLogger:log message161\n",
            "INFO:MyLogger:log message162\n",
            "INFO:MyLogger:log message163\n",
            "INFO:MyLogger:log message164\n",
            "INFO:MyLogger:log message165\n",
            "INFO:MyLogger:log message166\n",
            "INFO:MyLogger:log message167\n",
            "INFO:MyLogger:log message168\n",
            "INFO:MyLogger:log message169\n",
            "INFO:MyLogger:log message170\n",
            "INFO:MyLogger:log message171\n",
            "INFO:MyLogger:log message172\n",
            "INFO:MyLogger:log message173\n",
            "INFO:MyLogger:log message174\n",
            "INFO:MyLogger:log message175\n",
            "INFO:MyLogger:log message176\n",
            "INFO:MyLogger:log message177\n",
            "INFO:MyLogger:log message178\n",
            "INFO:MyLogger:log message179\n",
            "INFO:MyLogger:log message180\n",
            "INFO:MyLogger:log message181\n",
            "INFO:MyLogger:log message182\n",
            "INFO:MyLogger:log message183\n",
            "INFO:MyLogger:log message184\n",
            "INFO:MyLogger:log message185\n",
            "INFO:MyLogger:log message186\n",
            "INFO:MyLogger:log message187\n",
            "INFO:MyLogger:log message188\n",
            "INFO:MyLogger:log message189\n",
            "INFO:MyLogger:log message190\n",
            "INFO:MyLogger:log message191\n",
            "INFO:MyLogger:log message192\n",
            "INFO:MyLogger:log message193\n",
            "INFO:MyLogger:log message194\n",
            "INFO:MyLogger:log message195\n",
            "INFO:MyLogger:log message196\n",
            "INFO:MyLogger:log message197\n",
            "INFO:MyLogger:log message198\n",
            "INFO:MyLogger:log message199\n",
            "INFO:MyLogger:log message200\n",
            "INFO:MyLogger:log message201\n",
            "INFO:MyLogger:log message202\n",
            "INFO:MyLogger:log message203\n",
            "INFO:MyLogger:log message204\n",
            "INFO:MyLogger:log message205\n",
            "INFO:MyLogger:log message206\n",
            "INFO:MyLogger:log message207\n",
            "INFO:MyLogger:log message208\n",
            "INFO:MyLogger:log message209\n",
            "INFO:MyLogger:log message210\n",
            "INFO:MyLogger:log message211\n",
            "INFO:MyLogger:log message212\n",
            "INFO:MyLogger:log message213\n",
            "INFO:MyLogger:log message214\n",
            "INFO:MyLogger:log message215\n",
            "INFO:MyLogger:log message216\n",
            "INFO:MyLogger:log message217\n",
            "INFO:MyLogger:log message218\n",
            "INFO:MyLogger:log message219\n",
            "INFO:MyLogger:log message220\n",
            "INFO:MyLogger:log message221\n",
            "INFO:MyLogger:log message222\n",
            "INFO:MyLogger:log message223\n",
            "INFO:MyLogger:log message224\n",
            "INFO:MyLogger:log message225\n",
            "INFO:MyLogger:log message226\n",
            "INFO:MyLogger:log message227\n",
            "INFO:MyLogger:log message228\n",
            "INFO:MyLogger:log message229\n",
            "INFO:MyLogger:log message230\n",
            "INFO:MyLogger:log message231\n",
            "INFO:MyLogger:log message232\n",
            "INFO:MyLogger:log message233\n",
            "INFO:MyLogger:log message234\n",
            "INFO:MyLogger:log message235\n",
            "INFO:MyLogger:log message236\n",
            "INFO:MyLogger:log message237\n",
            "INFO:MyLogger:log message238\n",
            "INFO:MyLogger:log message239\n",
            "INFO:MyLogger:log message240\n",
            "INFO:MyLogger:log message241\n",
            "INFO:MyLogger:log message242\n",
            "INFO:MyLogger:log message243\n",
            "INFO:MyLogger:log message244\n",
            "INFO:MyLogger:log message245\n",
            "INFO:MyLogger:log message246\n",
            "INFO:MyLogger:log message247\n",
            "INFO:MyLogger:log message248\n",
            "INFO:MyLogger:log message249\n",
            "INFO:MyLogger:log message250\n",
            "INFO:MyLogger:log message251\n",
            "INFO:MyLogger:log message252\n",
            "INFO:MyLogger:log message253\n",
            "INFO:MyLogger:log message254\n",
            "INFO:MyLogger:log message255\n",
            "INFO:MyLogger:log message256\n",
            "INFO:MyLogger:log message257\n",
            "INFO:MyLogger:log message258\n",
            "INFO:MyLogger:log message259\n",
            "INFO:MyLogger:log message260\n",
            "INFO:MyLogger:log message261\n",
            "INFO:MyLogger:log message262\n",
            "INFO:MyLogger:log message263\n",
            "INFO:MyLogger:log message264\n",
            "INFO:MyLogger:log message265\n",
            "INFO:MyLogger:log message266\n",
            "INFO:MyLogger:log message267\n",
            "INFO:MyLogger:log message268\n",
            "INFO:MyLogger:log message269\n",
            "INFO:MyLogger:log message270\n",
            "INFO:MyLogger:log message271\n",
            "INFO:MyLogger:log message272\n",
            "INFO:MyLogger:log message273\n",
            "INFO:MyLogger:log message274\n",
            "INFO:MyLogger:log message275\n",
            "INFO:MyLogger:log message276\n",
            "INFO:MyLogger:log message277\n",
            "INFO:MyLogger:log message278\n",
            "INFO:MyLogger:log message279\n",
            "INFO:MyLogger:log message280\n",
            "INFO:MyLogger:log message281\n",
            "INFO:MyLogger:log message282\n",
            "INFO:MyLogger:log message283\n",
            "INFO:MyLogger:log message284\n",
            "INFO:MyLogger:log message285\n",
            "INFO:MyLogger:log message286\n",
            "INFO:MyLogger:log message287\n",
            "INFO:MyLogger:log message288\n",
            "INFO:MyLogger:log message289\n",
            "INFO:MyLogger:log message290\n",
            "INFO:MyLogger:log message291\n",
            "INFO:MyLogger:log message292\n",
            "INFO:MyLogger:log message293\n",
            "INFO:MyLogger:log message294\n",
            "INFO:MyLogger:log message295\n",
            "INFO:MyLogger:log message296\n",
            "INFO:MyLogger:log message297\n",
            "INFO:MyLogger:log message298\n",
            "INFO:MyLogger:log message299\n",
            "INFO:MyLogger:log message300\n",
            "INFO:MyLogger:log message301\n",
            "INFO:MyLogger:log message302\n",
            "INFO:MyLogger:log message303\n",
            "INFO:MyLogger:log message304\n",
            "INFO:MyLogger:log message305\n",
            "INFO:MyLogger:log message306\n",
            "INFO:MyLogger:log message307\n",
            "INFO:MyLogger:log message308\n",
            "INFO:MyLogger:log message309\n",
            "INFO:MyLogger:log message310\n",
            "INFO:MyLogger:log message311\n",
            "INFO:MyLogger:log message312\n",
            "INFO:MyLogger:log message313\n",
            "INFO:MyLogger:log message314\n",
            "INFO:MyLogger:log message315\n",
            "INFO:MyLogger:log message316\n",
            "INFO:MyLogger:log message317\n",
            "INFO:MyLogger:log message318\n",
            "INFO:MyLogger:log message319\n",
            "INFO:MyLogger:log message320\n",
            "INFO:MyLogger:log message321\n",
            "INFO:MyLogger:log message322\n",
            "INFO:MyLogger:log message323\n",
            "INFO:MyLogger:log message324\n",
            "INFO:MyLogger:log message325\n",
            "INFO:MyLogger:log message326\n",
            "INFO:MyLogger:log message327\n",
            "INFO:MyLogger:log message328\n",
            "INFO:MyLogger:log message329\n",
            "INFO:MyLogger:log message330\n",
            "INFO:MyLogger:log message331\n",
            "INFO:MyLogger:log message332\n",
            "INFO:MyLogger:log message333\n",
            "INFO:MyLogger:log message334\n",
            "INFO:MyLogger:log message335\n",
            "INFO:MyLogger:log message336\n",
            "INFO:MyLogger:log message337\n",
            "INFO:MyLogger:log message338\n",
            "INFO:MyLogger:log message339\n",
            "INFO:MyLogger:log message340\n",
            "INFO:MyLogger:log message341\n",
            "INFO:MyLogger:log message342\n",
            "INFO:MyLogger:log message343\n",
            "INFO:MyLogger:log message344\n",
            "INFO:MyLogger:log message345\n",
            "INFO:MyLogger:log message346\n",
            "INFO:MyLogger:log message347\n",
            "INFO:MyLogger:log message348\n",
            "INFO:MyLogger:log message349\n",
            "INFO:MyLogger:log message350\n",
            "INFO:MyLogger:log message351\n",
            "INFO:MyLogger:log message352\n",
            "INFO:MyLogger:log message353\n",
            "INFO:MyLogger:log message354\n",
            "INFO:MyLogger:log message355\n",
            "INFO:MyLogger:log message356\n",
            "INFO:MyLogger:log message357\n",
            "INFO:MyLogger:log message358\n",
            "INFO:MyLogger:log message359\n",
            "INFO:MyLogger:log message360\n",
            "INFO:MyLogger:log message361\n",
            "INFO:MyLogger:log message362\n",
            "INFO:MyLogger:log message363\n",
            "INFO:MyLogger:log message364\n",
            "INFO:MyLogger:log message365\n",
            "INFO:MyLogger:log message366\n",
            "INFO:MyLogger:log message367\n",
            "INFO:MyLogger:log message368\n",
            "INFO:MyLogger:log message369\n",
            "INFO:MyLogger:log message370\n",
            "INFO:MyLogger:log message371\n",
            "INFO:MyLogger:log message372\n",
            "INFO:MyLogger:log message373\n",
            "INFO:MyLogger:log message374\n",
            "INFO:MyLogger:log message375\n",
            "INFO:MyLogger:log message376\n",
            "INFO:MyLogger:log message377\n",
            "INFO:MyLogger:log message378\n",
            "INFO:MyLogger:log message379\n",
            "INFO:MyLogger:log message380\n",
            "INFO:MyLogger:log message381\n",
            "INFO:MyLogger:log message382\n",
            "INFO:MyLogger:log message383\n",
            "INFO:MyLogger:log message384\n",
            "INFO:MyLogger:log message385\n",
            "INFO:MyLogger:log message386\n",
            "INFO:MyLogger:log message387\n",
            "INFO:MyLogger:log message388\n",
            "INFO:MyLogger:log message389\n",
            "INFO:MyLogger:log message390\n",
            "INFO:MyLogger:log message391\n",
            "INFO:MyLogger:log message392\n",
            "INFO:MyLogger:log message393\n",
            "INFO:MyLogger:log message394\n",
            "INFO:MyLogger:log message395\n",
            "INFO:MyLogger:log message396\n",
            "INFO:MyLogger:log message397\n",
            "INFO:MyLogger:log message398\n",
            "INFO:MyLogger:log message399\n",
            "INFO:MyLogger:log message400\n",
            "INFO:MyLogger:log message401\n",
            "INFO:MyLogger:log message402\n",
            "INFO:MyLogger:log message403\n",
            "INFO:MyLogger:log message404\n",
            "INFO:MyLogger:log message405\n",
            "INFO:MyLogger:log message406\n",
            "INFO:MyLogger:log message407\n",
            "INFO:MyLogger:log message408\n",
            "INFO:MyLogger:log message409\n",
            "INFO:MyLogger:log message410\n",
            "INFO:MyLogger:log message411\n",
            "INFO:MyLogger:log message412\n",
            "INFO:MyLogger:log message413\n",
            "INFO:MyLogger:log message414\n",
            "INFO:MyLogger:log message415\n",
            "INFO:MyLogger:log message416\n",
            "INFO:MyLogger:log message417\n",
            "INFO:MyLogger:log message418\n",
            "INFO:MyLogger:log message419\n",
            "INFO:MyLogger:log message420\n",
            "INFO:MyLogger:log message421\n",
            "INFO:MyLogger:log message422\n",
            "INFO:MyLogger:log message423\n",
            "INFO:MyLogger:log message424\n",
            "INFO:MyLogger:log message425\n",
            "INFO:MyLogger:log message426\n",
            "INFO:MyLogger:log message427\n",
            "INFO:MyLogger:log message428\n",
            "INFO:MyLogger:log message429\n",
            "INFO:MyLogger:log message430\n",
            "INFO:MyLogger:log message431\n",
            "INFO:MyLogger:log message432\n",
            "INFO:MyLogger:log message433\n",
            "INFO:MyLogger:log message434\n",
            "INFO:MyLogger:log message435\n",
            "INFO:MyLogger:log message436\n",
            "INFO:MyLogger:log message437\n",
            "INFO:MyLogger:log message438\n",
            "INFO:MyLogger:log message439\n",
            "INFO:MyLogger:log message440\n",
            "INFO:MyLogger:log message441\n",
            "INFO:MyLogger:log message442\n",
            "INFO:MyLogger:log message443\n",
            "INFO:MyLogger:log message444\n",
            "INFO:MyLogger:log message445\n",
            "INFO:MyLogger:log message446\n",
            "INFO:MyLogger:log message447\n",
            "INFO:MyLogger:log message448\n",
            "INFO:MyLogger:log message449\n",
            "INFO:MyLogger:log message450\n",
            "INFO:MyLogger:log message451\n",
            "INFO:MyLogger:log message452\n",
            "INFO:MyLogger:log message453\n",
            "INFO:MyLogger:log message454\n",
            "INFO:MyLogger:log message455\n",
            "INFO:MyLogger:log message456\n",
            "INFO:MyLogger:log message457\n",
            "INFO:MyLogger:log message458\n",
            "INFO:MyLogger:log message459\n",
            "INFO:MyLogger:log message460\n",
            "INFO:MyLogger:log message461\n",
            "INFO:MyLogger:log message462\n",
            "INFO:MyLogger:log message463\n",
            "INFO:MyLogger:log message464\n",
            "INFO:MyLogger:log message465\n",
            "INFO:MyLogger:log message466\n",
            "INFO:MyLogger:log message467\n",
            "INFO:MyLogger:log message468\n",
            "INFO:MyLogger:log message469\n",
            "INFO:MyLogger:log message470\n",
            "INFO:MyLogger:log message471\n",
            "INFO:MyLogger:log message472\n",
            "INFO:MyLogger:log message473\n",
            "INFO:MyLogger:log message474\n",
            "INFO:MyLogger:log message475\n",
            "INFO:MyLogger:log message476\n",
            "INFO:MyLogger:log message477\n",
            "INFO:MyLogger:log message478\n",
            "INFO:MyLogger:log message479\n",
            "INFO:MyLogger:log message480\n",
            "INFO:MyLogger:log message481\n",
            "INFO:MyLogger:log message482\n",
            "INFO:MyLogger:log message483\n",
            "INFO:MyLogger:log message484\n",
            "INFO:MyLogger:log message485\n",
            "INFO:MyLogger:log message486\n",
            "INFO:MyLogger:log message487\n",
            "INFO:MyLogger:log message488\n",
            "INFO:MyLogger:log message489\n",
            "INFO:MyLogger:log message490\n",
            "INFO:MyLogger:log message491\n",
            "INFO:MyLogger:log message492\n",
            "INFO:MyLogger:log message493\n",
            "INFO:MyLogger:log message494\n",
            "INFO:MyLogger:log message495\n",
            "INFO:MyLogger:log message496\n",
            "INFO:MyLogger:log message497\n",
            "INFO:MyLogger:log message498\n",
            "INFO:MyLogger:log message499\n",
            "INFO:MyLogger:log message500\n",
            "INFO:MyLogger:log message501\n",
            "INFO:MyLogger:log message502\n",
            "INFO:MyLogger:log message503\n",
            "INFO:MyLogger:log message504\n",
            "INFO:MyLogger:log message505\n",
            "INFO:MyLogger:log message506\n",
            "INFO:MyLogger:log message507\n",
            "INFO:MyLogger:log message508\n",
            "INFO:MyLogger:log message509\n",
            "INFO:MyLogger:log message510\n",
            "INFO:MyLogger:log message511\n",
            "INFO:MyLogger:log message512\n",
            "INFO:MyLogger:log message513\n",
            "INFO:MyLogger:log message514\n",
            "INFO:MyLogger:log message515\n",
            "INFO:MyLogger:log message516\n",
            "INFO:MyLogger:log message517\n",
            "INFO:MyLogger:log message518\n",
            "INFO:MyLogger:log message519\n",
            "INFO:MyLogger:log message520\n",
            "INFO:MyLogger:log message521\n",
            "INFO:MyLogger:log message522\n",
            "INFO:MyLogger:log message523\n",
            "INFO:MyLogger:log message524\n",
            "INFO:MyLogger:log message525\n",
            "INFO:MyLogger:log message526\n",
            "INFO:MyLogger:log message527\n",
            "INFO:MyLogger:log message528\n",
            "INFO:MyLogger:log message529\n",
            "INFO:MyLogger:log message530\n",
            "INFO:MyLogger:log message531\n",
            "INFO:MyLogger:log message532\n",
            "INFO:MyLogger:log message533\n",
            "INFO:MyLogger:log message534\n",
            "INFO:MyLogger:log message535\n",
            "INFO:MyLogger:log message536\n",
            "INFO:MyLogger:log message537\n",
            "INFO:MyLogger:log message538\n",
            "INFO:MyLogger:log message539\n",
            "INFO:MyLogger:log message540\n",
            "INFO:MyLogger:log message541\n",
            "INFO:MyLogger:log message542\n",
            "INFO:MyLogger:log message543\n",
            "INFO:MyLogger:log message544\n",
            "INFO:MyLogger:log message545\n",
            "INFO:MyLogger:log message546\n",
            "INFO:MyLogger:log message547\n",
            "INFO:MyLogger:log message548\n",
            "INFO:MyLogger:log message549\n",
            "INFO:MyLogger:log message550\n",
            "INFO:MyLogger:log message551\n",
            "INFO:MyLogger:log message552\n",
            "INFO:MyLogger:log message553\n",
            "INFO:MyLogger:log message554\n",
            "INFO:MyLogger:log message555\n",
            "INFO:MyLogger:log message556\n",
            "INFO:MyLogger:log message557\n",
            "INFO:MyLogger:log message558\n",
            "INFO:MyLogger:log message559\n",
            "INFO:MyLogger:log message560\n",
            "INFO:MyLogger:log message561\n",
            "INFO:MyLogger:log message562\n",
            "INFO:MyLogger:log message563\n",
            "INFO:MyLogger:log message564\n",
            "INFO:MyLogger:log message565\n",
            "INFO:MyLogger:log message566\n",
            "INFO:MyLogger:log message567\n",
            "INFO:MyLogger:log message568\n",
            "INFO:MyLogger:log message569\n",
            "INFO:MyLogger:log message570\n",
            "INFO:MyLogger:log message571\n",
            "INFO:MyLogger:log message572\n",
            "INFO:MyLogger:log message573\n",
            "INFO:MyLogger:log message574\n",
            "INFO:MyLogger:log message575\n",
            "INFO:MyLogger:log message576\n",
            "INFO:MyLogger:log message577\n",
            "INFO:MyLogger:log message578\n",
            "INFO:MyLogger:log message579\n",
            "INFO:MyLogger:log message580\n",
            "INFO:MyLogger:log message581\n",
            "INFO:MyLogger:log message582\n",
            "INFO:MyLogger:log message583\n",
            "INFO:MyLogger:log message584\n",
            "INFO:MyLogger:log message585\n",
            "INFO:MyLogger:log message586\n",
            "INFO:MyLogger:log message587\n",
            "INFO:MyLogger:log message588\n",
            "INFO:MyLogger:log message589\n",
            "INFO:MyLogger:log message590\n",
            "INFO:MyLogger:log message591\n",
            "INFO:MyLogger:log message592\n",
            "INFO:MyLogger:log message593\n",
            "INFO:MyLogger:log message594\n",
            "INFO:MyLogger:log message595\n",
            "INFO:MyLogger:log message596\n",
            "INFO:MyLogger:log message597\n",
            "INFO:MyLogger:log message598\n",
            "INFO:MyLogger:log message599\n",
            "INFO:MyLogger:log message600\n",
            "INFO:MyLogger:log message601\n",
            "INFO:MyLogger:log message602\n",
            "INFO:MyLogger:log message603\n",
            "INFO:MyLogger:log message604\n",
            "INFO:MyLogger:log message605\n",
            "INFO:MyLogger:log message606\n",
            "INFO:MyLogger:log message607\n",
            "INFO:MyLogger:log message608\n",
            "INFO:MyLogger:log message609\n",
            "INFO:MyLogger:log message610\n",
            "INFO:MyLogger:log message611\n",
            "INFO:MyLogger:log message612\n",
            "INFO:MyLogger:log message613\n",
            "INFO:MyLogger:log message614\n",
            "INFO:MyLogger:log message615\n",
            "INFO:MyLogger:log message616\n",
            "INFO:MyLogger:log message617\n",
            "INFO:MyLogger:log message618\n",
            "INFO:MyLogger:log message619\n",
            "INFO:MyLogger:log message620\n",
            "INFO:MyLogger:log message621\n",
            "INFO:MyLogger:log message622\n",
            "INFO:MyLogger:log message623\n",
            "INFO:MyLogger:log message624\n",
            "INFO:MyLogger:log message625\n",
            "INFO:MyLogger:log message626\n",
            "INFO:MyLogger:log message627\n",
            "INFO:MyLogger:log message628\n",
            "INFO:MyLogger:log message629\n",
            "INFO:MyLogger:log message630\n",
            "INFO:MyLogger:log message631\n",
            "INFO:MyLogger:log message632\n",
            "INFO:MyLogger:log message633\n",
            "INFO:MyLogger:log message634\n",
            "INFO:MyLogger:log message635\n",
            "INFO:MyLogger:log message636\n",
            "INFO:MyLogger:log message637\n",
            "INFO:MyLogger:log message638\n",
            "INFO:MyLogger:log message639\n",
            "INFO:MyLogger:log message640\n",
            "INFO:MyLogger:log message641\n",
            "INFO:MyLogger:log message642\n",
            "INFO:MyLogger:log message643\n",
            "INFO:MyLogger:log message644\n",
            "INFO:MyLogger:log message645\n",
            "INFO:MyLogger:log message646\n",
            "INFO:MyLogger:log message647\n",
            "INFO:MyLogger:log message648\n",
            "INFO:MyLogger:log message649\n",
            "INFO:MyLogger:log message650\n",
            "INFO:MyLogger:log message651\n",
            "INFO:MyLogger:log message652\n",
            "INFO:MyLogger:log message653\n",
            "INFO:MyLogger:log message654\n",
            "INFO:MyLogger:log message655\n",
            "INFO:MyLogger:log message656\n",
            "INFO:MyLogger:log message657\n",
            "INFO:MyLogger:log message658\n",
            "INFO:MyLogger:log message659\n",
            "INFO:MyLogger:log message660\n",
            "INFO:MyLogger:log message661\n",
            "INFO:MyLogger:log message662\n",
            "INFO:MyLogger:log message663\n",
            "INFO:MyLogger:log message664\n",
            "INFO:MyLogger:log message665\n",
            "INFO:MyLogger:log message666\n",
            "INFO:MyLogger:log message667\n",
            "INFO:MyLogger:log message668\n",
            "INFO:MyLogger:log message669\n",
            "INFO:MyLogger:log message670\n",
            "INFO:MyLogger:log message671\n",
            "INFO:MyLogger:log message672\n",
            "INFO:MyLogger:log message673\n",
            "INFO:MyLogger:log message674\n",
            "INFO:MyLogger:log message675\n",
            "INFO:MyLogger:log message676\n",
            "INFO:MyLogger:log message677\n",
            "INFO:MyLogger:log message678\n",
            "INFO:MyLogger:log message679\n",
            "INFO:MyLogger:log message680\n",
            "INFO:MyLogger:log message681\n",
            "INFO:MyLogger:log message682\n",
            "INFO:MyLogger:log message683\n",
            "INFO:MyLogger:log message684\n",
            "INFO:MyLogger:log message685\n",
            "INFO:MyLogger:log message686\n",
            "INFO:MyLogger:log message687\n",
            "INFO:MyLogger:log message688\n",
            "INFO:MyLogger:log message689\n",
            "INFO:MyLogger:log message690\n",
            "INFO:MyLogger:log message691\n",
            "INFO:MyLogger:log message692\n",
            "INFO:MyLogger:log message693\n",
            "INFO:MyLogger:log message694\n",
            "INFO:MyLogger:log message695\n",
            "INFO:MyLogger:log message696\n",
            "INFO:MyLogger:log message697\n",
            "INFO:MyLogger:log message698\n",
            "INFO:MyLogger:log message699\n",
            "INFO:MyLogger:log message700\n",
            "INFO:MyLogger:log message701\n",
            "INFO:MyLogger:log message702\n",
            "INFO:MyLogger:log message703\n",
            "INFO:MyLogger:log message704\n",
            "INFO:MyLogger:log message705\n",
            "INFO:MyLogger:log message706\n",
            "INFO:MyLogger:log message707\n",
            "INFO:MyLogger:log message708\n",
            "INFO:MyLogger:log message709\n",
            "INFO:MyLogger:log message710\n",
            "INFO:MyLogger:log message711\n",
            "INFO:MyLogger:log message712\n",
            "INFO:MyLogger:log message713\n",
            "INFO:MyLogger:log message714\n",
            "INFO:MyLogger:log message715\n",
            "INFO:MyLogger:log message716\n",
            "INFO:MyLogger:log message717\n",
            "INFO:MyLogger:log message718\n",
            "INFO:MyLogger:log message719\n",
            "INFO:MyLogger:log message720\n",
            "INFO:MyLogger:log message721\n",
            "INFO:MyLogger:log message722\n",
            "INFO:MyLogger:log message723\n",
            "INFO:MyLogger:log message724\n",
            "INFO:MyLogger:log message725\n",
            "INFO:MyLogger:log message726\n",
            "INFO:MyLogger:log message727\n",
            "INFO:MyLogger:log message728\n",
            "INFO:MyLogger:log message729\n",
            "INFO:MyLogger:log message730\n",
            "INFO:MyLogger:log message731\n",
            "INFO:MyLogger:log message732\n",
            "INFO:MyLogger:log message733\n",
            "INFO:MyLogger:log message734\n",
            "INFO:MyLogger:log message735\n",
            "INFO:MyLogger:log message736\n",
            "INFO:MyLogger:log message737\n",
            "INFO:MyLogger:log message738\n",
            "INFO:MyLogger:log message739\n",
            "INFO:MyLogger:log message740\n",
            "INFO:MyLogger:log message741\n",
            "INFO:MyLogger:log message742\n",
            "INFO:MyLogger:log message743\n",
            "INFO:MyLogger:log message744\n",
            "INFO:MyLogger:log message745\n",
            "INFO:MyLogger:log message746\n",
            "INFO:MyLogger:log message747\n",
            "INFO:MyLogger:log message748\n",
            "INFO:MyLogger:log message749\n",
            "INFO:MyLogger:log message750\n",
            "INFO:MyLogger:log message751\n",
            "INFO:MyLogger:log message752\n",
            "INFO:MyLogger:log message753\n",
            "INFO:MyLogger:log message754\n",
            "INFO:MyLogger:log message755\n",
            "INFO:MyLogger:log message756\n",
            "INFO:MyLogger:log message757\n",
            "INFO:MyLogger:log message758\n",
            "INFO:MyLogger:log message759\n",
            "INFO:MyLogger:log message760\n",
            "INFO:MyLogger:log message761\n",
            "INFO:MyLogger:log message762\n",
            "INFO:MyLogger:log message763\n",
            "INFO:MyLogger:log message764\n",
            "INFO:MyLogger:log message765\n",
            "INFO:MyLogger:log message766\n",
            "INFO:MyLogger:log message767\n",
            "INFO:MyLogger:log message768\n",
            "INFO:MyLogger:log message769\n",
            "INFO:MyLogger:log message770\n",
            "INFO:MyLogger:log message771\n",
            "INFO:MyLogger:log message772\n",
            "INFO:MyLogger:log message773\n",
            "INFO:MyLogger:log message774\n",
            "INFO:MyLogger:log message775\n",
            "INFO:MyLogger:log message776\n",
            "INFO:MyLogger:log message777\n",
            "INFO:MyLogger:log message778\n",
            "INFO:MyLogger:log message779\n",
            "INFO:MyLogger:log message780\n",
            "INFO:MyLogger:log message781\n",
            "INFO:MyLogger:log message782\n",
            "INFO:MyLogger:log message783\n",
            "INFO:MyLogger:log message784\n",
            "INFO:MyLogger:log message785\n",
            "INFO:MyLogger:log message786\n",
            "INFO:MyLogger:log message787\n",
            "INFO:MyLogger:log message788\n",
            "INFO:MyLogger:log message789\n",
            "INFO:MyLogger:log message790\n",
            "INFO:MyLogger:log message791\n",
            "INFO:MyLogger:log message792\n",
            "INFO:MyLogger:log message793\n",
            "INFO:MyLogger:log message794\n",
            "INFO:MyLogger:log message795\n",
            "INFO:MyLogger:log message796\n",
            "INFO:MyLogger:log message797\n",
            "INFO:MyLogger:log message798\n",
            "INFO:MyLogger:log message799\n",
            "INFO:MyLogger:log message800\n",
            "INFO:MyLogger:log message801\n",
            "INFO:MyLogger:log message802\n",
            "INFO:MyLogger:log message803\n",
            "INFO:MyLogger:log message804\n",
            "INFO:MyLogger:log message805\n",
            "INFO:MyLogger:log message806\n",
            "INFO:MyLogger:log message807\n",
            "INFO:MyLogger:log message808\n",
            "INFO:MyLogger:log message809\n",
            "INFO:MyLogger:log message810\n",
            "INFO:MyLogger:log message811\n",
            "INFO:MyLogger:log message812\n",
            "INFO:MyLogger:log message813\n",
            "INFO:MyLogger:log message814\n",
            "INFO:MyLogger:log message815\n",
            "INFO:MyLogger:log message816\n",
            "INFO:MyLogger:log message817\n",
            "INFO:MyLogger:log message818\n",
            "INFO:MyLogger:log message819\n",
            "INFO:MyLogger:log message820\n",
            "INFO:MyLogger:log message821\n",
            "INFO:MyLogger:log message822\n",
            "INFO:MyLogger:log message823\n",
            "INFO:MyLogger:log message824\n",
            "INFO:MyLogger:log message825\n",
            "INFO:MyLogger:log message826\n",
            "INFO:MyLogger:log message827\n",
            "INFO:MyLogger:log message828\n",
            "INFO:MyLogger:log message829\n",
            "INFO:MyLogger:log message830\n",
            "INFO:MyLogger:log message831\n",
            "INFO:MyLogger:log message832\n",
            "INFO:MyLogger:log message833\n",
            "INFO:MyLogger:log message834\n",
            "INFO:MyLogger:log message835\n",
            "INFO:MyLogger:log message836\n",
            "INFO:MyLogger:log message837\n",
            "INFO:MyLogger:log message838\n",
            "INFO:MyLogger:log message839\n",
            "INFO:MyLogger:log message840\n",
            "INFO:MyLogger:log message841\n",
            "INFO:MyLogger:log message842\n",
            "INFO:MyLogger:log message843\n",
            "INFO:MyLogger:log message844\n",
            "INFO:MyLogger:log message845\n",
            "INFO:MyLogger:log message846\n",
            "INFO:MyLogger:log message847\n",
            "INFO:MyLogger:log message848\n",
            "INFO:MyLogger:log message849\n",
            "INFO:MyLogger:log message850\n",
            "INFO:MyLogger:log message851\n",
            "INFO:MyLogger:log message852\n",
            "INFO:MyLogger:log message853\n",
            "INFO:MyLogger:log message854\n",
            "INFO:MyLogger:log message855\n",
            "INFO:MyLogger:log message856\n",
            "INFO:MyLogger:log message857\n",
            "INFO:MyLogger:log message858\n",
            "INFO:MyLogger:log message859\n",
            "INFO:MyLogger:log message860\n",
            "INFO:MyLogger:log message861\n",
            "INFO:MyLogger:log message862\n",
            "INFO:MyLogger:log message863\n",
            "INFO:MyLogger:log message864\n",
            "INFO:MyLogger:log message865\n",
            "INFO:MyLogger:log message866\n",
            "INFO:MyLogger:log message867\n",
            "INFO:MyLogger:log message868\n",
            "INFO:MyLogger:log message869\n",
            "INFO:MyLogger:log message870\n",
            "INFO:MyLogger:log message871\n",
            "INFO:MyLogger:log message872\n",
            "INFO:MyLogger:log message873\n",
            "INFO:MyLogger:log message874\n",
            "INFO:MyLogger:log message875\n",
            "INFO:MyLogger:log message876\n",
            "INFO:MyLogger:log message877\n",
            "INFO:MyLogger:log message878\n",
            "INFO:MyLogger:log message879\n",
            "INFO:MyLogger:log message880\n",
            "INFO:MyLogger:log message881\n",
            "INFO:MyLogger:log message882\n",
            "INFO:MyLogger:log message883\n",
            "INFO:MyLogger:log message884\n",
            "INFO:MyLogger:log message885\n",
            "INFO:MyLogger:log message886\n",
            "INFO:MyLogger:log message887\n",
            "INFO:MyLogger:log message888\n",
            "INFO:MyLogger:log message889\n",
            "INFO:MyLogger:log message890\n",
            "INFO:MyLogger:log message891\n",
            "INFO:MyLogger:log message892\n",
            "INFO:MyLogger:log message893\n",
            "INFO:MyLogger:log message894\n",
            "INFO:MyLogger:log message895\n",
            "INFO:MyLogger:log message896\n",
            "INFO:MyLogger:log message897\n",
            "INFO:MyLogger:log message898\n",
            "INFO:MyLogger:log message899\n",
            "INFO:MyLogger:log message900\n",
            "INFO:MyLogger:log message901\n",
            "INFO:MyLogger:log message902\n",
            "INFO:MyLogger:log message903\n",
            "INFO:MyLogger:log message904\n",
            "INFO:MyLogger:log message905\n",
            "INFO:MyLogger:log message906\n",
            "INFO:MyLogger:log message907\n",
            "INFO:MyLogger:log message908\n",
            "INFO:MyLogger:log message909\n",
            "INFO:MyLogger:log message910\n",
            "INFO:MyLogger:log message911\n",
            "INFO:MyLogger:log message912\n",
            "INFO:MyLogger:log message913\n",
            "INFO:MyLogger:log message914\n",
            "INFO:MyLogger:log message915\n",
            "INFO:MyLogger:log message916\n",
            "INFO:MyLogger:log message917\n",
            "INFO:MyLogger:log message918\n",
            "INFO:MyLogger:log message919\n",
            "INFO:MyLogger:log message920\n",
            "INFO:MyLogger:log message921\n",
            "INFO:MyLogger:log message922\n",
            "INFO:MyLogger:log message923\n",
            "INFO:MyLogger:log message924\n",
            "INFO:MyLogger:log message925\n",
            "INFO:MyLogger:log message926\n",
            "INFO:MyLogger:log message927\n",
            "INFO:MyLogger:log message928\n",
            "INFO:MyLogger:log message929\n",
            "INFO:MyLogger:log message930\n",
            "INFO:MyLogger:log message931\n",
            "INFO:MyLogger:log message932\n",
            "INFO:MyLogger:log message933\n",
            "INFO:MyLogger:log message934\n",
            "INFO:MyLogger:log message935\n",
            "INFO:MyLogger:log message936\n",
            "INFO:MyLogger:log message937\n",
            "INFO:MyLogger:log message938\n",
            "INFO:MyLogger:log message939\n",
            "INFO:MyLogger:log message940\n",
            "INFO:MyLogger:log message941\n",
            "INFO:MyLogger:log message942\n",
            "INFO:MyLogger:log message943\n",
            "INFO:MyLogger:log message944\n",
            "INFO:MyLogger:log message945\n",
            "INFO:MyLogger:log message946\n",
            "INFO:MyLogger:log message947\n",
            "INFO:MyLogger:log message948\n",
            "INFO:MyLogger:log message949\n",
            "INFO:MyLogger:log message950\n",
            "INFO:MyLogger:log message951\n",
            "INFO:MyLogger:log message952\n",
            "INFO:MyLogger:log message953\n",
            "INFO:MyLogger:log message954\n",
            "INFO:MyLogger:log message955\n",
            "INFO:MyLogger:log message956\n",
            "INFO:MyLogger:log message957\n",
            "INFO:MyLogger:log message958\n",
            "INFO:MyLogger:log message959\n",
            "INFO:MyLogger:log message960\n",
            "INFO:MyLogger:log message961\n",
            "INFO:MyLogger:log message962\n",
            "INFO:MyLogger:log message963\n",
            "INFO:MyLogger:log message964\n",
            "INFO:MyLogger:log message965\n",
            "INFO:MyLogger:log message966\n",
            "INFO:MyLogger:log message967\n",
            "INFO:MyLogger:log message968\n",
            "INFO:MyLogger:log message969\n",
            "INFO:MyLogger:log message970\n",
            "INFO:MyLogger:log message971\n",
            "INFO:MyLogger:log message972\n",
            "INFO:MyLogger:log message973\n",
            "INFO:MyLogger:log message974\n",
            "INFO:MyLogger:log message975\n",
            "INFO:MyLogger:log message976\n",
            "INFO:MyLogger:log message977\n",
            "INFO:MyLogger:log message978\n",
            "INFO:MyLogger:log message979\n",
            "INFO:MyLogger:log message980\n",
            "INFO:MyLogger:log message981\n",
            "INFO:MyLogger:log message982\n",
            "INFO:MyLogger:log message983\n",
            "INFO:MyLogger:log message984\n",
            "INFO:MyLogger:log message985\n",
            "INFO:MyLogger:log message986\n",
            "INFO:MyLogger:log message987\n",
            "INFO:MyLogger:log message988\n",
            "INFO:MyLogger:log message989\n",
            "INFO:MyLogger:log message990\n",
            "INFO:MyLogger:log message991\n",
            "INFO:MyLogger:log message992\n",
            "INFO:MyLogger:log message993\n",
            "INFO:MyLogger:log message994\n",
            "INFO:MyLogger:log message995\n",
            "INFO:MyLogger:log message996\n",
            "INFO:MyLogger:log message997\n",
            "INFO:MyLogger:log message998\n",
            "INFO:MyLogger:log message999\n"
          ]
        },
        {
          "output_type": "stream",
          "name": "stdout",
          "text": [
            "Logging setup complete.Logs are written to app.log\n"
          ]
        }
      ]
    },
    {
      "cell_type": "markdown",
      "source": [
        "## **Q19.Write a program that handles both IndexError and KeyError using a try-except block.**"
      ],
      "metadata": {
        "id": "fU3eY9kpukYq"
      }
    },
    {
      "cell_type": "code",
      "source": [
        "def handle_exceptions():\n",
        "  my_list = [10,20,30]\n",
        "  my_dict = {\"name\":\"Pankaj\",\"Age\":23}\n",
        "\n",
        "  try:\n",
        "    #Attempt to access an out-of-range index in the list\n",
        "    print(\"List element:\", my_list[3])\n",
        "\n",
        "    #Attempt to access a non-existent key in the dictionary\n",
        "    print(\"Dictionary value:\", my_dict[\"address\"])\n",
        "\n",
        "  except IndexError:\n",
        "    print(\"Error:Index out of range in the list.\")\n",
        "\n",
        "  except KeyError:\n",
        "    print(\"Error:Key not found in the dictionary.\")\n",
        "\n",
        "#run the function\n",
        "handle_exceptions()\n",
        ""
      ],
      "metadata": {
        "colab": {
          "base_uri": "https://localhost:8080/"
        },
        "id": "5U-hK6v2xOiE",
        "outputId": "34fbe52d-8d7b-4d45-c589-642617da11f5"
      },
      "execution_count": 50,
      "outputs": [
        {
          "output_type": "stream",
          "name": "stdout",
          "text": [
            "Error:Index out of range in the list.\n"
          ]
        }
      ]
    },
    {
      "cell_type": "markdown",
      "source": [
        "**Improved Version: Handling Both Errors in One Block**"
      ],
      "metadata": {
        "id": "tJnV2TKazurz"
      }
    },
    {
      "cell_type": "code",
      "source": [
        "def handle_exceptions():\n",
        "  my_list = [10,20,30] # Define my_list inside the function\n",
        "  my_dict = {\"name\":\"Pankaj\",\"Age\":23}\n",
        "\n",
        "  try:\n",
        "    print(\"List element:\", my_list[2])\n",
        "    print(\"Dictionary value:\", my_dict[\"Age\"])\n",
        "\n",
        "  except (IndexError, KeyError) as e:\n",
        "    print(f\"Error occured:{e}\")\n",
        "\n",
        "#run the function\n",
        "handle_exceptions()"
      ],
      "metadata": {
        "colab": {
          "base_uri": "https://localhost:8080/"
        },
        "id": "XIgXjQhM2Pem",
        "outputId": "f5603383-ee6b-42a5-f37b-34f8a112d882"
      },
      "execution_count": 64,
      "outputs": [
        {
          "output_type": "stream",
          "name": "stdout",
          "text": [
            "List element: 30\n",
            "Dictionary value: 23\n"
          ]
        }
      ]
    },
    {
      "cell_type": "markdown",
      "source": [
        "## **Q20.How would you open a file and read its contents using a context manager in Python?**"
      ],
      "metadata": {
        "id": "hjOLO73B2a-F"
      }
    },
    {
      "cell_type": "code",
      "source": [
        "filename = \"hello.txt\"\n",
        "\n",
        "try:\n",
        "  with open(filename,\"r\") as file:\n",
        "    contents = file.read()\n",
        "    print(\"File contents:\\n\",contents)\n",
        "\n",
        "except FileNotFoundError:\n",
        "  print(f\"Error: The file '{filename}' was not found. \")\n",
        "except Exception as e:\n",
        "  print(f\"An error occured:{e}\")"
      ],
      "metadata": {
        "colab": {
          "base_uri": "https://localhost:8080/"
        },
        "id": "TW6sJ5zV33BE",
        "outputId": "43fd5974-31ba-440e-9527-3e7ecaa81f63"
      },
      "execution_count": 67,
      "outputs": [
        {
          "output_type": "stream",
          "name": "stdout",
          "text": [
            "File contents:\n",
            " Hello,World!\n"
          ]
        }
      ]
    },
    {
      "cell_type": "markdown",
      "source": [
        "## **Q21.Write a Python program that reads a file and prints the number of occurrences of a specific word.**"
      ],
      "metadata": {
        "id": "wxFaMrEV6lv6"
      }
    },
    {
      "cell_type": "code",
      "source": [
        "def count_word_occurences(filename,word):\n",
        "  filename = \"sample.txt\"\n",
        "  \"\"\"Counts the occurence of a specific word in a file.\"\"\"\n",
        "\n",
        "\n",
        "  with open(filename,\"w\") as file:\n",
        "        content = file.write(\"Python is amazing.\\n I love Python programming!\\n Python developers are in demand.\")\n",
        "\n",
        "  try:\n",
        "    with open(filename,\"r\", encoding=\"utf-8\") as file:\n",
        "      contents = file.read().lower() #read the file and convert to lowercase\n",
        "      words = contents.split() #split text into words\n",
        "      count = words.count(word.lower()) #count occurences (case-insensitive)\n",
        "      print(f\"The word'{word}' appears {count} times in '{filename}'.\")\n",
        "  except FileNotFoundError:\n",
        "    print(f\"Error:The file '{filename}' was not found.\")\n",
        "  except Exception as e:\n",
        "    print(f\"An error occured:{e}\")\n",
        "\n",
        "filename = \"sample.txt\" #change to your file name\n",
        "word_to_count = \"python\"\n",
        "count_word_occurences(filename, word_to_count)"
      ],
      "metadata": {
        "colab": {
          "base_uri": "https://localhost:8080/"
        },
        "id": "-Gz6Cpfs6sxc",
        "outputId": "9816f88c-093c-407c-cdf3-93f68ec71998"
      },
      "execution_count": 74,
      "outputs": [
        {
          "output_type": "stream",
          "name": "stdout",
          "text": [
            "The word'python' appears 3 times in 'sample.txt'.\n"
          ]
        }
      ]
    },
    {
      "cell_type": "markdown",
      "source": [
        "## **Q22.How can you check if a file is empty before attempting to read its contents?**"
      ],
      "metadata": {
        "id": "uT_9c747-Ln5"
      }
    },
    {
      "cell_type": "markdown",
      "source": [
        "**Method 1: Check File Size Using** os.path.getsize()"
      ],
      "metadata": {
        "id": "2MoObUW-EH0S"
      }
    },
    {
      "cell_type": "code",
      "source": [
        "import os\n",
        "\n",
        "filename = \"example.txt\"\n",
        "\n",
        "if os.path.exists(filename) and os.path.getsize(filename) == 0:\n",
        "  print(f\"The file '{filename}' is empty.\")\n",
        "else:\n",
        "  print(f\"The file '{filename}' is not empty.\")"
      ],
      "metadata": {
        "colab": {
          "base_uri": "https://localhost:8080/"
        },
        "id": "kkH5ohXeESNX",
        "outputId": "ceb1c0ab-7e83-4e24-deef-cc68ada23f2c"
      },
      "execution_count": 82,
      "outputs": [
        {
          "output_type": "stream",
          "name": "stdout",
          "text": [
            "The file 'example.txt' is not empty.\n"
          ]
        }
      ]
    },
    {
      "cell_type": "markdown",
      "source": [
        "**Method 2:Check File Size Using** seek() and tell()"
      ],
      "metadata": {
        "id": "4Bsu6ApxFyhD"
      }
    },
    {
      "cell_type": "code",
      "source": [
        "filename = \"example.txt\"\n",
        "\n",
        "with open(filename,\"r\") as file:\n",
        "  if file.read(1): #try reading the first character\n",
        "    print(f\"The file '{filename}' is not empty.\")\n",
        "  else:\n",
        "    print(f\"The file '{filename}' is empty.\")"
      ],
      "metadata": {
        "colab": {
          "base_uri": "https://localhost:8080/"
        },
        "id": "WdCP5bhzF8Aq",
        "outputId": "90955577-80d2-4112-fc7c-cfbc871705d3"
      },
      "execution_count": 83,
      "outputs": [
        {
          "output_type": "stream",
          "name": "stdout",
          "text": [
            "The file 'example.txt' is not empty.\n"
          ]
        }
      ]
    },
    {
      "cell_type": "markdown",
      "source": [
        "**Method 3: Read and Check if conents are empty**"
      ],
      "metadata": {
        "id": "IbmIddLpGg2D"
      }
    },
    {
      "cell_type": "code",
      "source": [
        "filename = \"example.txt\"\n",
        "\n",
        "with open(filename,\"r\")as file:\n",
        "  contents = file.read().strip()\n",
        "  if not contents:\n",
        "    print(f\"The file '{filename}' is empty.\")\n",
        "  else:\n",
        "    print(f\"The file '{filename}' is not empty.\")"
      ],
      "metadata": {
        "colab": {
          "base_uri": "https://localhost:8080/"
        },
        "id": "1ausLAaRGs3F",
        "outputId": "d3be1919-7165-4904-f8fc-13b69d105e03"
      },
      "execution_count": 84,
      "outputs": [
        {
          "output_type": "stream",
          "name": "stdout",
          "text": [
            "The file 'example.txt' is not empty.\n"
          ]
        }
      ]
    },
    {
      "cell_type": "markdown",
      "source": [
        "## **Q23.Write a Python program that writes to a log file when an error occurs during file handling.**"
      ],
      "metadata": {
        "id": "SRChLhmPHT0c"
      }
    },
    {
      "cell_type": "code",
      "source": [
        "import logging\n",
        "\n",
        "#configure logging\n",
        "log_filename = \"error.log\"\n",
        "logging.basicConfig(\n",
        "    filename=log_filename,\n",
        "    level=logging.ERROR,\n",
        "    format=\"%(asctime)s - %(levelname)s - %(message)s\"\n",
        ")\n",
        "\n",
        "def read_file(filename):\n",
        "  \"\"\"Attempts to read a file and logs errors if it fails.\"\"\"\n",
        "  try:\n",
        "    with open(filename,\"r\") as file:\n",
        "      content = file.read()\n",
        "      print(\"File Content:\\n\",content)\n",
        "  except FileNotFoundError:\n",
        "    error_message = f\"Error: The file '{filename}' was not found.\"\n",
        "    print(error_message)\n",
        "    logging.error(error_message)\n",
        "  except PermissionError:\n",
        "    error_message = f\"Error: Permission denied for '{filename}'.\"\n",
        "    print(error_message)\n",
        "    logging.error(error_message)\n",
        "  except Exception as e:\n",
        "    error_message = f\"An unexpected error occured: {e}\"\n",
        "    print(error_message)\n",
        "    logging.error(error_message)\n",
        "\n",
        "filename = \"sample.txt\"\n",
        "read_file(filename)\n",
        "\n",
        "print(f\"Errors (if any) are logged in '{log_filename}'.\")"
      ],
      "metadata": {
        "colab": {
          "base_uri": "https://localhost:8080/"
        },
        "id": "IxQ8unhfHg17",
        "outputId": "e261356a-02a9-46e0-8785-90b5e1ff6fd0"
      },
      "execution_count": 85,
      "outputs": [
        {
          "output_type": "stream",
          "name": "stdout",
          "text": [
            "File Content:\n",
            " Python is amazing.\n",
            " I love Python programming!\n",
            " Python developers are in demand.\n",
            "Errors (if any) are logged in 'error.log'.\n"
          ]
        }
      ]
    },
    {
      "cell_type": "markdown",
      "source": [
        "**1.Configures Logging:**\n",
        "\n",
        "* Logs errors to error.log using logging.ERROR level.\n",
        "\n",
        "* Includes timestamp, error level, and message in the log format.\n",
        "\n",
        "**2.Attempts to Read a File:**\n",
        "\n",
        "* Uses open(filename, \"r\") inside a try block.\n",
        "\n",
        "* Prints the file's contents if successful.\n",
        "\n",
        "**3.Handles Errors:**\n",
        "\n",
        "* **FileNotFoundError:** If the file doesn't exist.\n",
        "\n",
        "* **PermissionError:** If the script lacks permission to read the file.\n",
        "\n",
        "* **Other Exceptions:** Captures unexpected issues.\n"
      ],
      "metadata": {
        "id": "pZKfBa9tK1Uo"
      }
    }
  ]
}